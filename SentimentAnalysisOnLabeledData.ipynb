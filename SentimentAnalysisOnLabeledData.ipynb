{
  "cells": [
    {
      "cell_type": "code",
      "execution_count": null,
      "metadata": {
        "id": "zsLiZ9ZGmIs-"
      },
      "outputs": [],
      "source": [
        "import pandas as pd\n",
        "import matplotlib.pyplot as plt\n",
        "import numpy as np\n",
        "import gensim.downloader as api"
      ]
    },
    {
      "cell_type": "code",
      "execution_count": null,
      "metadata": {
        "colab": {
          "base_uri": "https://localhost:8080/",
          "height": 424
        },
        "id": "Z4x2pPTymy76",
        "outputId": "4f684dc6-1137-4dc6-a107-fd1b262d08c0"
      },
      "outputs": [
        {
          "output_type": "execute_result",
          "data": {
            "text/plain": [
              "                                               clean_text  category\n",
              "0       when modi promised “minimum government maximum...      -1.0\n",
              "1       talk all the nonsense and continue all the dra...       0.0\n",
              "2       what did just say vote for modi  welcome bjp t...       1.0\n",
              "3       asking his supporters prefix chowkidar their n...       1.0\n",
              "4       answer who among these the most powerful world...       1.0\n",
              "...                                                   ...       ...\n",
              "162975  why these 456 crores paid neerav modi not reco...      -1.0\n",
              "162976  dear rss terrorist payal gawar what about modi...      -1.0\n",
              "162977  did you cover her interaction forum where she ...       0.0\n",
              "162978  there big project came into india modi dream p...       0.0\n",
              "162979  have you ever listen about like gurukul where ...       1.0\n",
              "\n",
              "[162980 rows x 2 columns]"
            ],
            "text/html": [
              "\n",
              "  <div id=\"df-6e821fe2-db72-493a-9bf2-f3b0a2631909\">\n",
              "    <div class=\"colab-df-container\">\n",
              "      <div>\n",
              "<style scoped>\n",
              "    .dataframe tbody tr th:only-of-type {\n",
              "        vertical-align: middle;\n",
              "    }\n",
              "\n",
              "    .dataframe tbody tr th {\n",
              "        vertical-align: top;\n",
              "    }\n",
              "\n",
              "    .dataframe thead th {\n",
              "        text-align: right;\n",
              "    }\n",
              "</style>\n",
              "<table border=\"1\" class=\"dataframe\">\n",
              "  <thead>\n",
              "    <tr style=\"text-align: right;\">\n",
              "      <th></th>\n",
              "      <th>clean_text</th>\n",
              "      <th>category</th>\n",
              "    </tr>\n",
              "  </thead>\n",
              "  <tbody>\n",
              "    <tr>\n",
              "      <th>0</th>\n",
              "      <td>when modi promised “minimum government maximum...</td>\n",
              "      <td>-1.0</td>\n",
              "    </tr>\n",
              "    <tr>\n",
              "      <th>1</th>\n",
              "      <td>talk all the nonsense and continue all the dra...</td>\n",
              "      <td>0.0</td>\n",
              "    </tr>\n",
              "    <tr>\n",
              "      <th>2</th>\n",
              "      <td>what did just say vote for modi  welcome bjp t...</td>\n",
              "      <td>1.0</td>\n",
              "    </tr>\n",
              "    <tr>\n",
              "      <th>3</th>\n",
              "      <td>asking his supporters prefix chowkidar their n...</td>\n",
              "      <td>1.0</td>\n",
              "    </tr>\n",
              "    <tr>\n",
              "      <th>4</th>\n",
              "      <td>answer who among these the most powerful world...</td>\n",
              "      <td>1.0</td>\n",
              "    </tr>\n",
              "    <tr>\n",
              "      <th>...</th>\n",
              "      <td>...</td>\n",
              "      <td>...</td>\n",
              "    </tr>\n",
              "    <tr>\n",
              "      <th>162975</th>\n",
              "      <td>why these 456 crores paid neerav modi not reco...</td>\n",
              "      <td>-1.0</td>\n",
              "    </tr>\n",
              "    <tr>\n",
              "      <th>162976</th>\n",
              "      <td>dear rss terrorist payal gawar what about modi...</td>\n",
              "      <td>-1.0</td>\n",
              "    </tr>\n",
              "    <tr>\n",
              "      <th>162977</th>\n",
              "      <td>did you cover her interaction forum where she ...</td>\n",
              "      <td>0.0</td>\n",
              "    </tr>\n",
              "    <tr>\n",
              "      <th>162978</th>\n",
              "      <td>there big project came into india modi dream p...</td>\n",
              "      <td>0.0</td>\n",
              "    </tr>\n",
              "    <tr>\n",
              "      <th>162979</th>\n",
              "      <td>have you ever listen about like gurukul where ...</td>\n",
              "      <td>1.0</td>\n",
              "    </tr>\n",
              "  </tbody>\n",
              "</table>\n",
              "<p>162980 rows × 2 columns</p>\n",
              "</div>\n",
              "      <button class=\"colab-df-convert\" onclick=\"convertToInteractive('df-6e821fe2-db72-493a-9bf2-f3b0a2631909')\"\n",
              "              title=\"Convert this dataframe to an interactive table.\"\n",
              "              style=\"display:none;\">\n",
              "        \n",
              "  <svg xmlns=\"http://www.w3.org/2000/svg\" height=\"24px\"viewBox=\"0 0 24 24\"\n",
              "       width=\"24px\">\n",
              "    <path d=\"M0 0h24v24H0V0z\" fill=\"none\"/>\n",
              "    <path d=\"M18.56 5.44l.94 2.06.94-2.06 2.06-.94-2.06-.94-.94-2.06-.94 2.06-2.06.94zm-11 1L8.5 8.5l.94-2.06 2.06-.94-2.06-.94L8.5 2.5l-.94 2.06-2.06.94zm10 10l.94 2.06.94-2.06 2.06-.94-2.06-.94-.94-2.06-.94 2.06-2.06.94z\"/><path d=\"M17.41 7.96l-1.37-1.37c-.4-.4-.92-.59-1.43-.59-.52 0-1.04.2-1.43.59L10.3 9.45l-7.72 7.72c-.78.78-.78 2.05 0 2.83L4 21.41c.39.39.9.59 1.41.59.51 0 1.02-.2 1.41-.59l7.78-7.78 2.81-2.81c.8-.78.8-2.07 0-2.86zM5.41 20L4 18.59l7.72-7.72 1.47 1.35L5.41 20z\"/>\n",
              "  </svg>\n",
              "      </button>\n",
              "      \n",
              "  <style>\n",
              "    .colab-df-container {\n",
              "      display:flex;\n",
              "      flex-wrap:wrap;\n",
              "      gap: 12px;\n",
              "    }\n",
              "\n",
              "    .colab-df-convert {\n",
              "      background-color: #E8F0FE;\n",
              "      border: none;\n",
              "      border-radius: 50%;\n",
              "      cursor: pointer;\n",
              "      display: none;\n",
              "      fill: #1967D2;\n",
              "      height: 32px;\n",
              "      padding: 0 0 0 0;\n",
              "      width: 32px;\n",
              "    }\n",
              "\n",
              "    .colab-df-convert:hover {\n",
              "      background-color: #E2EBFA;\n",
              "      box-shadow: 0px 1px 2px rgba(60, 64, 67, 0.3), 0px 1px 3px 1px rgba(60, 64, 67, 0.15);\n",
              "      fill: #174EA6;\n",
              "    }\n",
              "\n",
              "    [theme=dark] .colab-df-convert {\n",
              "      background-color: #3B4455;\n",
              "      fill: #D2E3FC;\n",
              "    }\n",
              "\n",
              "    [theme=dark] .colab-df-convert:hover {\n",
              "      background-color: #434B5C;\n",
              "      box-shadow: 0px 1px 3px 1px rgba(0, 0, 0, 0.15);\n",
              "      filter: drop-shadow(0px 1px 2px rgba(0, 0, 0, 0.3));\n",
              "      fill: #FFFFFF;\n",
              "    }\n",
              "  </style>\n",
              "\n",
              "      <script>\n",
              "        const buttonEl =\n",
              "          document.querySelector('#df-6e821fe2-db72-493a-9bf2-f3b0a2631909 button.colab-df-convert');\n",
              "        buttonEl.style.display =\n",
              "          google.colab.kernel.accessAllowed ? 'block' : 'none';\n",
              "\n",
              "        async function convertToInteractive(key) {\n",
              "          const element = document.querySelector('#df-6e821fe2-db72-493a-9bf2-f3b0a2631909');\n",
              "          const dataTable =\n",
              "            await google.colab.kernel.invokeFunction('convertToInteractive',\n",
              "                                                     [key], {});\n",
              "          if (!dataTable) return;\n",
              "\n",
              "          const docLinkHtml = 'Like what you see? Visit the ' +\n",
              "            '<a target=\"_blank\" href=https://colab.research.google.com/notebooks/data_table.ipynb>data table notebook</a>'\n",
              "            + ' to learn more about interactive tables.';\n",
              "          element.innerHTML = '';\n",
              "          dataTable['output_type'] = 'display_data';\n",
              "          await google.colab.output.renderOutput(dataTable, element);\n",
              "          const docLink = document.createElement('div');\n",
              "          docLink.innerHTML = docLinkHtml;\n",
              "          element.appendChild(docLink);\n",
              "        }\n",
              "      </script>\n",
              "    </div>\n",
              "  </div>\n",
              "  "
            ]
          },
          "metadata": {},
          "execution_count": 2
        }
      ],
      "source": [
        "df = pd.read_csv('/content/Twitter_Data.csv')\n",
        "df\n"
      ]
    },
    {
      "cell_type": "code",
      "execution_count": null,
      "metadata": {
        "colab": {
          "base_uri": "https://localhost:8080/"
        },
        "id": "U7T773o4L7Cs",
        "outputId": "e9a8e071-0041-4521-8d7f-7c5be2cacb6e"
      },
      "outputs": [
        {
          "output_type": "stream",
          "name": "stdout",
          "text": [
            "                                               clean_text  category\n",
            "130448  the foundation stone northeast gas grid inaugu...       NaN\n",
            "155642  dear terrorists you can run but you cant hide ...       NaN\n",
            "155698  offense the best defence with mission shakti m...       NaN\n",
            "155770  have always heard politicians backing out thei...       NaN\n",
            "158693  modi government plans felicitate the faceless ...       NaN\n",
            "159442               chidambaram gives praises modinomics       NaN\n",
            "160559  the reason why modi contested from seats 2014 ...       NaN\n",
            "Empty DataFrame\n",
            "Columns: [clean_text, category]\n",
            "Index: []\n"
          ]
        }
      ],
      "source": [
        "nan_rows = df[df['category'].isnull()]\n",
        "print(nan_rows)\n",
        "df = df.dropna()\n",
        "nan_row = df[df['clean_text'].isnull()]\n",
        "print(nan_row)"
      ]
    },
    {
      "cell_type": "code",
      "execution_count": null,
      "metadata": {
        "colab": {
          "base_uri": "https://localhost:8080/"
        },
        "id": "ULzSaqRaDk8f",
        "outputId": "7974895c-7ca7-461e-b8e8-30ccae028bbb"
      },
      "outputs": [
        {
          "output_type": "stream",
          "name": "stdout",
          "text": [
            "0         when modi promised “minimum government maximum...\n",
            "1         talk all the nonsense and continue all the dra...\n",
            "2         what did just say vote for modi  welcome bjp t...\n",
            "3         asking his supporters prefix chowkidar their n...\n",
            "4         answer who among these the most powerful world...\n",
            "                                ...                        \n",
            "162975    why these 456 crores paid neerav modi not reco...\n",
            "162976    dear rss terrorist payal gawar what about modi...\n",
            "162977    did you cover her interaction forum where she ...\n",
            "162978    there big project came into india modi dream p...\n",
            "162979    have you ever listen about like gurukul where ...\n",
            "Name: clean_text, Length: 162969, dtype: object\n",
            "0        -1.0\n",
            "1         0.0\n",
            "2         1.0\n",
            "3         1.0\n",
            "4         1.0\n",
            "         ... \n",
            "162975   -1.0\n",
            "162976   -1.0\n",
            "162977    0.0\n",
            "162978    0.0\n",
            "162979    1.0\n",
            "Name: category, Length: 162969, dtype: float64\n",
            "when modi promised “minimum government maximum governance” expected him begin the difficult job reforming the state why does take years get justice state should and not business and should exit psus and temples\n"
          ]
        }
      ],
      "source": [
        "from sklearn.model_selection import train_test_split\n",
        "x = df['clean_text']\n",
        "y = df['category']\n",
        "print(x)\n",
        "print(y)\n",
        "print(x[0])\n"
      ]
    },
    {
      "cell_type": "markdown",
      "metadata": {
        "id": "xDVIqKtDtSGT"
      },
      "source": [
        "**PREPROCESSING**"
      ]
    },
    {
      "cell_type": "code",
      "execution_count": null,
      "metadata": {
        "id": "Tvd1LbVftZvv"
      },
      "outputs": [],
      "source": [
        "from nltk.stem import WordNetLemmatizer"
      ]
    },
    {
      "cell_type": "code",
      "execution_count": null,
      "metadata": {
        "colab": {
          "base_uri": "https://localhost:8080/",
          "height": 330
        },
        "id": "CE9X3aTFppL5",
        "outputId": "cd30be5a-d649-48e3-89ff-8bc5271a9004"
      },
      "outputs": [
        {
          "output_type": "stream",
          "name": "stderr",
          "text": [
            "<ipython-input-6-27249f405207>:6: SettingWithCopyWarning: \n",
            "A value is trying to be set on a copy of a slice from a DataFrame.\n",
            "Try using .loc[row_indexer,col_indexer] = value instead\n",
            "\n",
            "See the caveats in the documentation: https://pandas.pydata.org/pandas-docs/stable/user_guide/indexing.html#returning-a-view-versus-a-copy\n",
            "  df['clean_text']=df['clean_text'].str.lower()\n"
          ]
        },
        {
          "output_type": "execute_result",
          "data": {
            "text/plain": [
              "                                               clean_text  category\n",
              "162975  why these 456 crores paid neerav modi not reco...      -1.0\n",
              "162976  dear rss terrorist payal gawar what about modi...      -1.0\n",
              "162977  did you cover her interaction forum where she ...       0.0\n",
              "162978  there big project came into india modi dream p...       0.0\n",
              "162979  have you ever listen about like gurukul where ...       1.0"
            ],
            "text/html": [
              "\n",
              "  <div id=\"df-e675078d-fc26-4209-8510-2aa8e54179f1\">\n",
              "    <div class=\"colab-df-container\">\n",
              "      <div>\n",
              "<style scoped>\n",
              "    .dataframe tbody tr th:only-of-type {\n",
              "        vertical-align: middle;\n",
              "    }\n",
              "\n",
              "    .dataframe tbody tr th {\n",
              "        vertical-align: top;\n",
              "    }\n",
              "\n",
              "    .dataframe thead th {\n",
              "        text-align: right;\n",
              "    }\n",
              "</style>\n",
              "<table border=\"1\" class=\"dataframe\">\n",
              "  <thead>\n",
              "    <tr style=\"text-align: right;\">\n",
              "      <th></th>\n",
              "      <th>clean_text</th>\n",
              "      <th>category</th>\n",
              "    </tr>\n",
              "  </thead>\n",
              "  <tbody>\n",
              "    <tr>\n",
              "      <th>162975</th>\n",
              "      <td>why these 456 crores paid neerav modi not reco...</td>\n",
              "      <td>-1.0</td>\n",
              "    </tr>\n",
              "    <tr>\n",
              "      <th>162976</th>\n",
              "      <td>dear rss terrorist payal gawar what about modi...</td>\n",
              "      <td>-1.0</td>\n",
              "    </tr>\n",
              "    <tr>\n",
              "      <th>162977</th>\n",
              "      <td>did you cover her interaction forum where she ...</td>\n",
              "      <td>0.0</td>\n",
              "    </tr>\n",
              "    <tr>\n",
              "      <th>162978</th>\n",
              "      <td>there big project came into india modi dream p...</td>\n",
              "      <td>0.0</td>\n",
              "    </tr>\n",
              "    <tr>\n",
              "      <th>162979</th>\n",
              "      <td>have you ever listen about like gurukul where ...</td>\n",
              "      <td>1.0</td>\n",
              "    </tr>\n",
              "  </tbody>\n",
              "</table>\n",
              "</div>\n",
              "      <button class=\"colab-df-convert\" onclick=\"convertToInteractive('df-e675078d-fc26-4209-8510-2aa8e54179f1')\"\n",
              "              title=\"Convert this dataframe to an interactive table.\"\n",
              "              style=\"display:none;\">\n",
              "        \n",
              "  <svg xmlns=\"http://www.w3.org/2000/svg\" height=\"24px\"viewBox=\"0 0 24 24\"\n",
              "       width=\"24px\">\n",
              "    <path d=\"M0 0h24v24H0V0z\" fill=\"none\"/>\n",
              "    <path d=\"M18.56 5.44l.94 2.06.94-2.06 2.06-.94-2.06-.94-.94-2.06-.94 2.06-2.06.94zm-11 1L8.5 8.5l.94-2.06 2.06-.94-2.06-.94L8.5 2.5l-.94 2.06-2.06.94zm10 10l.94 2.06.94-2.06 2.06-.94-2.06-.94-.94-2.06-.94 2.06-2.06.94z\"/><path d=\"M17.41 7.96l-1.37-1.37c-.4-.4-.92-.59-1.43-.59-.52 0-1.04.2-1.43.59L10.3 9.45l-7.72 7.72c-.78.78-.78 2.05 0 2.83L4 21.41c.39.39.9.59 1.41.59.51 0 1.02-.2 1.41-.59l7.78-7.78 2.81-2.81c.8-.78.8-2.07 0-2.86zM5.41 20L4 18.59l7.72-7.72 1.47 1.35L5.41 20z\"/>\n",
              "  </svg>\n",
              "      </button>\n",
              "      \n",
              "  <style>\n",
              "    .colab-df-container {\n",
              "      display:flex;\n",
              "      flex-wrap:wrap;\n",
              "      gap: 12px;\n",
              "    }\n",
              "\n",
              "    .colab-df-convert {\n",
              "      background-color: #E8F0FE;\n",
              "      border: none;\n",
              "      border-radius: 50%;\n",
              "      cursor: pointer;\n",
              "      display: none;\n",
              "      fill: #1967D2;\n",
              "      height: 32px;\n",
              "      padding: 0 0 0 0;\n",
              "      width: 32px;\n",
              "    }\n",
              "\n",
              "    .colab-df-convert:hover {\n",
              "      background-color: #E2EBFA;\n",
              "      box-shadow: 0px 1px 2px rgba(60, 64, 67, 0.3), 0px 1px 3px 1px rgba(60, 64, 67, 0.15);\n",
              "      fill: #174EA6;\n",
              "    }\n",
              "\n",
              "    [theme=dark] .colab-df-convert {\n",
              "      background-color: #3B4455;\n",
              "      fill: #D2E3FC;\n",
              "    }\n",
              "\n",
              "    [theme=dark] .colab-df-convert:hover {\n",
              "      background-color: #434B5C;\n",
              "      box-shadow: 0px 1px 3px 1px rgba(0, 0, 0, 0.15);\n",
              "      filter: drop-shadow(0px 1px 2px rgba(0, 0, 0, 0.3));\n",
              "      fill: #FFFFFF;\n",
              "    }\n",
              "  </style>\n",
              "\n",
              "      <script>\n",
              "        const buttonEl =\n",
              "          document.querySelector('#df-e675078d-fc26-4209-8510-2aa8e54179f1 button.colab-df-convert');\n",
              "        buttonEl.style.display =\n",
              "          google.colab.kernel.accessAllowed ? 'block' : 'none';\n",
              "\n",
              "        async function convertToInteractive(key) {\n",
              "          const element = document.querySelector('#df-e675078d-fc26-4209-8510-2aa8e54179f1');\n",
              "          const dataTable =\n",
              "            await google.colab.kernel.invokeFunction('convertToInteractive',\n",
              "                                                     [key], {});\n",
              "          if (!dataTable) return;\n",
              "\n",
              "          const docLinkHtml = 'Like what you see? Visit the ' +\n",
              "            '<a target=\"_blank\" href=https://colab.research.google.com/notebooks/data_table.ipynb>data table notebook</a>'\n",
              "            + ' to learn more about interactive tables.';\n",
              "          element.innerHTML = '';\n",
              "          dataTable['output_type'] = 'display_data';\n",
              "          await google.colab.output.renderOutput(dataTable, element);\n",
              "          const docLink = document.createElement('div');\n",
              "          docLink.innerHTML = docLinkHtml;\n",
              "          element.appendChild(docLink);\n",
              "        }\n",
              "      </script>\n",
              "    </div>\n",
              "  </div>\n",
              "  "
            ]
          },
          "metadata": {},
          "execution_count": 6
        }
      ],
      "source": [
        "'''data_pos = x[y == 1.0]\n",
        "data_neg = x[y == -1.0]\n",
        "data_neu = x[y==0.0]\n",
        "print(data_neg)'''\n",
        "import re\n",
        "df['clean_text']=df['clean_text'].str.lower()\n",
        "df.tail()"
      ]
    },
    {
      "cell_type": "markdown",
      "metadata": {
        "id": "UjrrCEoutVzy"
      },
      "source": [
        "**STOPWORDS** **REMOVAL**"
      ]
    },
    {
      "cell_type": "code",
      "execution_count": null,
      "metadata": {
        "colab": {
          "base_uri": "https://localhost:8080/"
        },
        "id": "5T1UdYi6F6vp",
        "outputId": "93b00c52-aa32-48bf-b413-0e50074866a2"
      },
      "outputs": [
        {
          "output_type": "stream",
          "name": "stdout",
          "text": [
            "Looking in indexes: https://pypi.org/simple, https://us-python.pkg.dev/colab-wheels/public/simple/\n",
            "Requirement already satisfied: nltk in /usr/local/lib/python3.10/dist-packages (3.8.1)\n",
            "Requirement already satisfied: joblib in /usr/local/lib/python3.10/dist-packages (from nltk) (1.2.0)\n",
            "Requirement already satisfied: click in /usr/local/lib/python3.10/dist-packages (from nltk) (8.1.3)\n",
            "Requirement already satisfied: tqdm in /usr/local/lib/python3.10/dist-packages (from nltk) (4.65.0)\n",
            "Requirement already satisfied: regex>=2021.8.3 in /usr/local/lib/python3.10/dist-packages (from nltk) (2022.10.31)\n"
          ]
        }
      ],
      "source": [
        "!pip install nltk"
      ]
    },
    {
      "cell_type": "code",
      "execution_count": null,
      "metadata": {
        "colab": {
          "base_uri": "https://localhost:8080/"
        },
        "id": "L6_3AsU7thmS",
        "outputId": "d6155503-59cc-4549-ad45-cfbea6447c54"
      },
      "outputs": [
        {
          "output_type": "stream",
          "name": "stderr",
          "text": [
            "[nltk_data] Downloading package stopwords to /root/nltk_data...\n",
            "[nltk_data]   Unzipping corpora/stopwords.zip.\n"
          ]
        }
      ],
      "source": [
        "import nltk\n",
        "nltk.download('stopwords')\n",
        "from nltk.corpus import stopwords"
      ]
    },
    {
      "cell_type": "code",
      "execution_count": null,
      "metadata": {
        "id": "p7ovWaUstIhb"
      },
      "outputs": [],
      "source": [
        "stop_words = set(stopwords.words('english'))\n",
        "stop_words = ['too','below','will', 'about', 'there', 'before', 've', 'once', 'doing',  'do', \"she's\", 'o', 'because', 'should', 'll', 'while',  'did', 'me', 'off', 'more', 'only', 'from', 'myself', 'having', 'when', 'i', 'their',  'you', 'am', 'with', 'but', 'itself', 'to', 'is', 'my', 'was', 'up', 'same', 'in', 'she', 'an', 'any', 'both', 'no', 'on', 'here', 'd', 'down',  'them', 'can', 'into', 'how', 'between','which', 'a', 'then', 'where','has', 'through', 'just', 'further', 'as', 'those', 'theirs', 'yourself', 'who', 'your', 'so', 'we', 't', 'her', 'if', 'whom', 'this', 'during', 'y', 'now', 's', 'does', 'been', 'very', 'by', \"you'd\", \"you're\", 'other', 're', 'its', 'at', 'have', 'these', 'be', 'him',  'm', 'such', 'himself', 'ma', 'that', 'yours', 'are', 'again', 'and', 'they', \"should've\", 'were',  'yourselves', 'some', 'ours', 'hers', 'it','for', 'own', 'each', 'most', 'what', 'herself', 'being', \"you've\", 'after', \"that'll\", 'out', 'above', 'than', 'won', 'of',  'he', 'all', \"you'll\", 'his', 'themselves', 'under', 'our', 'ourselves', 'over', 'why', 'the', \"it's\", 'had', 'or']\n"
      ]
    },
    {
      "cell_type": "code",
      "execution_count": null,
      "metadata": {
        "colab": {
          "base_uri": "https://localhost:8080/"
        },
        "id": "mZ6Q_3Ebtv4D",
        "outputId": "2aad6fd4-35f6-4ab3-b5e6-054873a48d36"
      },
      "outputs": [
        {
          "output_type": "stream",
          "name": "stderr",
          "text": [
            "<ipython-input-10-c8ad1fee642b>:3: SettingWithCopyWarning: \n",
            "A value is trying to be set on a copy of a slice from a DataFrame.\n",
            "Try using .loc[row_indexer,col_indexer] = value instead\n",
            "\n",
            "See the caveats in the documentation: https://pandas.pydata.org/pandas-docs/stable/user_guide/indexing.html#returning-a-view-versus-a-copy\n",
            "  df['clean_text'] = df['clean_text'].apply(lambda text: removing_stopwords(text))\n"
          ]
        },
        {
          "output_type": "execute_result",
          "data": {
            "text/plain": [
              "0    modi promised “minimum government maximum gove...\n",
              "1               talk nonsense continue drama vote modi\n",
              "2    say vote modi welcome bjp told rahul main camp...\n",
              "3    asking supporters prefix chowkidar names modi ...\n",
              "4    answer among powerful world leader today trump...\n",
              "Name: clean_text, dtype: object"
            ]
          },
          "metadata": {},
          "execution_count": 10
        }
      ],
      "source": [
        "def removing_stopwords(text):\n",
        "    return \" \".join([word for word in str(text).split() if word not in stop_words])\n",
        "df['clean_text'] = df['clean_text'].apply(lambda text: removing_stopwords(text))\n",
        "df['clean_text'].head()"
      ]
    },
    {
      "cell_type": "markdown",
      "metadata": {
        "id": "GXBmHTuoZLuM"
      },
      "source": [
        "**Removing othet language wors**"
      ]
    },
    {
      "cell_type": "code",
      "execution_count": null,
      "metadata": {
        "colab": {
          "base_uri": "https://localhost:8080/"
        },
        "id": "SE4XcHEzZmvw",
        "outputId": "5c11da11-a31f-4865-d928-84d27d5b8737"
      },
      "outputs": [
        {
          "output_type": "stream",
          "name": "stdout",
          "text": [
            "\u001b[33m\r0% [Working]\u001b[0m\r            \rGet:1 http://security.ubuntu.com/ubuntu focal-security InRelease [114 kB]\n",
            "\u001b[33m\r0% [Connecting to archive.ubuntu.com (185.125.190.39)] [1 InRelease 14.2 kB/114\u001b[0m\r                                                                               \rGet:2 https://cloud.r-project.org/bin/linux/ubuntu focal-cran40/ InRelease [3,622 B]\n",
            "\u001b[33m\r0% [Connecting to archive.ubuntu.com (185.125.190.39)] [1 InRelease 28.6 kB/114\u001b[0m\u001b[33m\r0% [Connecting to archive.ubuntu.com (185.125.190.39)] [1 InRelease 51.8 kB/114\u001b[0m\u001b[33m\r0% [Connecting to archive.ubuntu.com (185.125.190.39)] [Connecting to ppa.launc\u001b[0m\r                                                                               \rHit:3 https://developer.download.nvidia.com/compute/cuda/repos/ubuntu2004/x86_64  InRelease\n",
            "\u001b[33m\r                                                                               \r0% [Waiting for headers] [Waiting for headers]\u001b[0m\r                                              \rHit:4 http://ppa.launchpad.net/c2d4u.team/c2d4u4.0+/ubuntu focal InRelease\n",
            "\u001b[33m\r0% [Waiting for headers] [Connecting to ppa.launchpad.net (185.125.190.52)]\u001b[0m\r                                                                           \rHit:5 http://archive.ubuntu.com/ubuntu focal InRelease\n",
            "Get:6 http://archive.ubuntu.com/ubuntu focal-updates InRelease [114 kB]\n",
            "Hit:7 http://ppa.launchpad.net/cran/libgit2/ubuntu focal InRelease\n",
            "Get:8 http://security.ubuntu.com/ubuntu focal-security/universe amd64 Packages [1,045 kB]\n",
            "Get:9 http://security.ubuntu.com/ubuntu focal-security/main amd64 Packages [2,674 kB]\n",
            "Hit:10 http://ppa.launchpad.net/deadsnakes/ppa/ubuntu focal InRelease\n",
            "Get:11 http://archive.ubuntu.com/ubuntu focal-backports InRelease [108 kB]\n",
            "Hit:12 http://ppa.launchpad.net/graphics-drivers/ppa/ubuntu focal InRelease\n",
            "Hit:13 http://ppa.launchpad.net/ubuntugis/ppa/ubuntu focal InRelease\n",
            "Get:14 http://archive.ubuntu.com/ubuntu focal-updates/universe amd64 Packages [1,341 kB]\n",
            "Get:15 http://archive.ubuntu.com/ubuntu focal-updates/main amd64 Packages [3,157 kB]\n",
            "Fetched 8,556 kB in 2s (4,331 kB/s)\n",
            "Reading package lists... Done\n",
            "Building dependency tree       \n",
            "Reading state information... Done\n",
            "26 packages can be upgraded. Run 'apt list --upgradable' to see them.\n",
            "Reading package lists... Done\n",
            "Building dependency tree       \n",
            "Reading state information... Done\n",
            "The following additional packages will be installed:\n",
            "  aspell aspell-en dictionaries-common emacsen-common hunspell-en-us\n",
            "  libaspell15 libenchant1c2a libhunspell-1.7-0 libtext-iconv-perl\n",
            "Suggested packages:\n",
            "  aspell-doc spellutils wordlist hunspell openoffice.org-hunspell\n",
            "  | openoffice.org-core libenchant-voikko\n",
            "The following NEW packages will be installed:\n",
            "  aspell aspell-en dictionaries-common emacsen-common enchant hunspell-en-us\n",
            "  libaspell15 libenchant1c2a libhunspell-1.7-0 libtext-iconv-perl\n",
            "0 upgraded, 10 newly installed, 0 to remove and 26 not upgraded.\n",
            "Need to get 1,316 kB of archives.\n",
            "After this operation, 5,474 kB of additional disk space will be used.\n",
            "Get:1 http://archive.ubuntu.com/ubuntu focal/main amd64 libtext-iconv-perl amd64 1.7-7 [13.8 kB]\n",
            "Get:2 http://archive.ubuntu.com/ubuntu focal-updates/main amd64 libaspell15 amd64 0.60.8-1ubuntu0.1 [328 kB]\n",
            "Get:3 http://archive.ubuntu.com/ubuntu focal/main amd64 emacsen-common all 3.0.4 [14.9 kB]\n",
            "Get:4 http://archive.ubuntu.com/ubuntu focal/main amd64 dictionaries-common all 1.28.1 [178 kB]\n",
            "Get:5 http://archive.ubuntu.com/ubuntu focal-updates/main amd64 aspell amd64 0.60.8-1ubuntu0.1 [88.4 kB]\n",
            "Get:6 http://archive.ubuntu.com/ubuntu focal/main amd64 aspell-en all 2018.04.16-0-1 [299 kB]\n",
            "Get:7 http://archive.ubuntu.com/ubuntu focal/main amd64 hunspell-en-us all 1:2018.04.16-1 [170 kB]\n",
            "Get:8 http://archive.ubuntu.com/ubuntu focal/main amd64 libhunspell-1.7-0 amd64 1.7.0-2build2 [147 kB]\n",
            "Get:9 http://archive.ubuntu.com/ubuntu focal/universe amd64 libenchant1c2a amd64 1.6.0-11.3build1 [64.7 kB]\n",
            "Get:10 http://archive.ubuntu.com/ubuntu focal/universe amd64 enchant amd64 1.6.0-11.3build1 [12.4 kB]\n",
            "Fetched 1,316 kB in 1s (1,880 kB/s)\n",
            "Preconfiguring packages ...\n",
            "Selecting previously unselected package libtext-iconv-perl.\n",
            "(Reading database ... 122518 files and directories currently installed.)\n",
            "Preparing to unpack .../0-libtext-iconv-perl_1.7-7_amd64.deb ...\n",
            "Unpacking libtext-iconv-perl (1.7-7) ...\n",
            "Selecting previously unselected package libaspell15:amd64.\n",
            "Preparing to unpack .../1-libaspell15_0.60.8-1ubuntu0.1_amd64.deb ...\n",
            "Unpacking libaspell15:amd64 (0.60.8-1ubuntu0.1) ...\n",
            "Selecting previously unselected package emacsen-common.\n",
            "Preparing to unpack .../2-emacsen-common_3.0.4_all.deb ...\n",
            "Unpacking emacsen-common (3.0.4) ...\n",
            "Selecting previously unselected package dictionaries-common.\n",
            "Preparing to unpack .../3-dictionaries-common_1.28.1_all.deb ...\n",
            "Adding 'diversion of /usr/share/dict/words to /usr/share/dict/words.pre-dictionaries-common by dictionaries-common'\n",
            "Unpacking dictionaries-common (1.28.1) ...\n",
            "Selecting previously unselected package aspell.\n",
            "Preparing to unpack .../4-aspell_0.60.8-1ubuntu0.1_amd64.deb ...\n",
            "Unpacking aspell (0.60.8-1ubuntu0.1) ...\n",
            "Selecting previously unselected package aspell-en.\n",
            "Preparing to unpack .../5-aspell-en_2018.04.16-0-1_all.deb ...\n",
            "Unpacking aspell-en (2018.04.16-0-1) ...\n",
            "Selecting previously unselected package hunspell-en-us.\n",
            "Preparing to unpack .../6-hunspell-en-us_1%3a2018.04.16-1_all.deb ...\n",
            "Unpacking hunspell-en-us (1:2018.04.16-1) ...\n",
            "Selecting previously unselected package libhunspell-1.7-0:amd64.\n",
            "Preparing to unpack .../7-libhunspell-1.7-0_1.7.0-2build2_amd64.deb ...\n",
            "Unpacking libhunspell-1.7-0:amd64 (1.7.0-2build2) ...\n",
            "Selecting previously unselected package libenchant1c2a:amd64.\n",
            "Preparing to unpack .../8-libenchant1c2a_1.6.0-11.3build1_amd64.deb ...\n",
            "Unpacking libenchant1c2a:amd64 (1.6.0-11.3build1) ...\n",
            "Selecting previously unselected package enchant.\n",
            "Preparing to unpack .../9-enchant_1.6.0-11.3build1_amd64.deb ...\n",
            "Unpacking enchant (1.6.0-11.3build1) ...\n",
            "Setting up libtext-iconv-perl (1.7-7) ...\n",
            "Setting up libaspell15:amd64 (0.60.8-1ubuntu0.1) ...\n",
            "Setting up emacsen-common (3.0.4) ...\n",
            "Setting up libhunspell-1.7-0:amd64 (1.7.0-2build2) ...\n",
            "Setting up dictionaries-common (1.28.1) ...\n",
            "Setting up aspell (0.60.8-1ubuntu0.1) ...\n",
            "Setting up hunspell-en-us (1:2018.04.16-1) ...\n",
            "Setting up aspell-en (2018.04.16-0-1) ...\n",
            "Setting up libenchant1c2a:amd64 (1.6.0-11.3build1) ...\n",
            "Setting up enchant (1.6.0-11.3build1) ...\n",
            "Processing triggers for man-db (2.9.1-1) ...\n",
            "Processing triggers for libc-bin (2.31-0ubuntu9.9) ...\n",
            "Processing triggers for dictionaries-common (1.28.1) ...\n",
            "aspell-autobuildhash: processing: en [en-common].\n",
            "aspell-autobuildhash: processing: en [en-variant_0].\n",
            "aspell-autobuildhash: processing: en [en-variant_1].\n",
            "aspell-autobuildhash: processing: en [en-variant_2].\n",
            "aspell-autobuildhash: processing: en [en-w_accents-only].\n",
            "aspell-autobuildhash: processing: en [en-wo_accents-only].\n",
            "aspell-autobuildhash: processing: en [en_AU-variant_0].\n",
            "aspell-autobuildhash: processing: en [en_AU-variant_1].\n",
            "aspell-autobuildhash: processing: en [en_AU-w_accents-only].\n",
            "aspell-autobuildhash: processing: en [en_AU-wo_accents-only].\n",
            "aspell-autobuildhash: processing: en [en_CA-variant_0].\n",
            "aspell-autobuildhash: processing: en [en_CA-variant_1].\n",
            "aspell-autobuildhash: processing: en [en_CA-w_accents-only].\n",
            "aspell-autobuildhash: processing: en [en_CA-wo_accents-only].\n",
            "aspell-autobuildhash: processing: en [en_GB-ise-w_accents-only].\n",
            "aspell-autobuildhash: processing: en [en_GB-ise-wo_accents-only].\n",
            "aspell-autobuildhash: processing: en [en_GB-ize-w_accents-only].\n",
            "aspell-autobuildhash: processing: en [en_GB-ize-wo_accents-only].\n",
            "aspell-autobuildhash: processing: en [en_GB-variant_0].\n",
            "aspell-autobuildhash: processing: en [en_GB-variant_1].\n",
            "aspell-autobuildhash: processing: en [en_US-w_accents-only].\n",
            "aspell-autobuildhash: processing: en [en_US-wo_accents-only].\n",
            "enchant is already the newest version (1.6.0-11.3build1).\n",
            "0 upgraded, 0 newly installed, 0 to remove and 26 not upgraded.\n",
            "Looking in indexes: https://pypi.org/simple, https://us-python.pkg.dev/colab-wheels/public/simple/\n",
            "Collecting pyenchant\n",
            "  Downloading pyenchant-3.2.2-py3-none-any.whl (55 kB)\n",
            "\u001b[2K     \u001b[90m━━━━━━━━━━━━━━━━━━━━━━━━━━━━━━━━━━━━━━━━\u001b[0m \u001b[32m55.7/55.7 kB\u001b[0m \u001b[31m5.2 MB/s\u001b[0m eta \u001b[36m0:00:00\u001b[0m\n",
            "\u001b[?25hInstalling collected packages: pyenchant\n",
            "Successfully installed pyenchant-3.2.2\n"
          ]
        }
      ],
      "source": [
        "!apt update\n",
        "!apt install enchant --fix-missing\n",
        "!apt install -qq enchant\n",
        "!pip install pyenchant"
      ]
    },
    {
      "cell_type": "code",
      "execution_count": null,
      "metadata": {
        "id": "7PFTsxzuZZi2"
      },
      "outputs": [],
      "source": [
        "import enchant\n",
        "d = enchant.Dict(\"en_US\")"
      ]
    },
    {
      "cell_type": "code",
      "execution_count": null,
      "metadata": {
        "colab": {
          "base_uri": "https://localhost:8080/"
        },
        "id": "aLGQaZg-Zv3V",
        "outputId": "edeee3fc-a2d7-48c4-8255-51566a3b5f1b"
      },
      "outputs": [
        {
          "output_type": "stream",
          "name": "stderr",
          "text": [
            "<ipython-input-13-e5d7ffc6253a>:3: SettingWithCopyWarning: \n",
            "A value is trying to be set on a copy of a slice from a DataFrame.\n",
            "Try using .loc[row_indexer,col_indexer] = value instead\n",
            "\n",
            "See the caveats in the documentation: https://pandas.pydata.org/pandas-docs/stable/user_guide/indexing.html#returning-a-view-versus-a-copy\n",
            "  df['clean_text'] = df['clean_text'].apply(lambda text: removing_nonEnglish(text))\n"
          ]
        },
        {
          "output_type": "execute_result",
          "data": {
            "text/plain": [
              "0    promised government maximum expected begin dif...\n",
              "1                    talk nonsense continue drama vote\n",
              "2    say vote welcome told main campaigner think relax\n",
              "3    asking supporters prefix names great service c...\n",
              "4    answer among powerful world leader today trump...\n",
              "Name: clean_text, dtype: object"
            ]
          },
          "metadata": {},
          "execution_count": 13
        }
      ],
      "source": [
        "def removing_nonEnglish(text):\n",
        "    return \" \".join([word for word in str(text).split() if d.check(word)])\n",
        "df['clean_text'] = df['clean_text'].apply(lambda text: removing_nonEnglish(text))\n",
        "df['clean_text'].head()"
      ]
    },
    {
      "cell_type": "code",
      "execution_count": null,
      "metadata": {
        "colab": {
          "base_uri": "https://localhost:8080/",
          "height": 122
        },
        "id": "32XC5hSCbd1e",
        "outputId": "aa236391-b5aa-41e0-e78e-959e1ac2f8a1"
      },
      "outputs": [
        {
          "output_type": "execute_result",
          "data": {
            "text/plain": [
              "'import re\\n\\n#text = \"Hello! 😀👋 How are you? 🙏🏼😊\"\\n\\n# Define a regular expression pattern that matches emojis\\nemoji_pattern = re.compile(\"[\"\\n                           u\"😀-🙏\"  # emoticons\\n                           u\"🌀-🗿\"  # symbols & pictographs\\n                           u\"🚀-\\U0001f6ff\"  # transport & map symbols\\n                           u\"\\U0001f1e0-🇿\"  # flags (iOS)\\n                           \"]+\", flags=re.UNICODE)\\n\\n# Use the findall method of the re module to find all matches of the pattern in the text\\ndef findEmo(text):\\n    emojis = emoji_pattern.findall(text)\\n    if(len(emojis)!=0):\\n      print(emojis)\\ndf[\\'clean_text\\'] = df[\\'clean_text\\'].apply(lambda text:findEmo(text) )'"
            ],
            "application/vnd.google.colaboratory.intrinsic+json": {
              "type": "string"
            }
          },
          "metadata": {},
          "execution_count": 14
        }
      ],
      "source": [
        "'''import re\n",
        "\n",
        "#text = \"Hello! 😀👋 How are you? 🙏🏼😊\"\n",
        "\n",
        "# Define a regular expression pattern that matches emojis\n",
        "emoji_pattern = re.compile(\"[\"\n",
        "                           u\"\\U0001F600-\\U0001F64F\"  # emoticons\n",
        "                           u\"\\U0001F300-\\U0001F5FF\"  # symbols & pictographs\n",
        "                           u\"\\U0001F680-\\U0001F6FF\"  # transport & map symbols\n",
        "                           u\"\\U0001F1E0-\\U0001F1FF\"  # flags (iOS)\n",
        "                           \"]+\", flags=re.UNICODE)\n",
        "\n",
        "# Use the findall method of the re module to find all matches of the pattern in the text\n",
        "def findEmo(text):\n",
        "    emojis = emoji_pattern.findall(text)\n",
        "    if(len(emojis)!=0):\n",
        "      print(emojis)\n",
        "df['clean_text'] = df['clean_text'].apply(lambda text:findEmo(text) )'''\n",
        "\n",
        "# Print the list of emojis found in the text"
      ]
    },
    {
      "cell_type": "markdown",
      "metadata": {
        "id": "J2fQFzv7wfg9"
      },
      "source": [
        "**Tokenization**"
      ]
    },
    {
      "cell_type": "code",
      "execution_count": null,
      "metadata": {
        "colab": {
          "base_uri": "https://localhost:8080/"
        },
        "id": "3TfvqAR2uRtW",
        "outputId": "a1e3c630-d04a-41aa-ca51-2b1dfa5420d2"
      },
      "outputs": [
        {
          "output_type": "stream",
          "name": "stderr",
          "text": [
            "<ipython-input-15-a02906b62e2f>:3: SettingWithCopyWarning: \n",
            "A value is trying to be set on a copy of a slice from a DataFrame.\n",
            "Try using .loc[row_indexer,col_indexer] = value instead\n",
            "\n",
            "See the caveats in the documentation: https://pandas.pydata.org/pandas-docs/stable/user_guide/indexing.html#returning-a-view-versus-a-copy\n",
            "  df['clean_text'] = df['clean_text'].apply(tweet_tokenizer.tokenize)\n"
          ]
        },
        {
          "output_type": "execute_result",
          "data": {
            "text/plain": [
              "0    [promised, government, maximum, expected, begi...\n",
              "1              [talk, nonsense, continue, drama, vote]\n",
              "2    [say, vote, welcome, told, main, campaigner, t...\n",
              "3    [asking, supporters, prefix, names, great, ser...\n",
              "4    [answer, among, powerful, world, leader, today...\n",
              "Name: clean_text, dtype: object"
            ]
          },
          "metadata": {},
          "execution_count": 15
        }
      ],
      "source": [
        "from nltk.tokenize import TweetTokenizer\n",
        "tweet_tokenizer = TweetTokenizer()\n",
        "df['clean_text'] = df['clean_text'].apply(tweet_tokenizer.tokenize)\n",
        "df['clean_text'].head()"
      ]
    },
    {
      "cell_type": "markdown",
      "metadata": {
        "id": "YC_8DRIvuG0M"
      },
      "source": [
        "**Lemmatization**"
      ]
    },
    {
      "cell_type": "code",
      "execution_count": null,
      "metadata": {
        "colab": {
          "base_uri": "https://localhost:8080/"
        },
        "id": "kOzS-TL3yLHN",
        "outputId": "10918903-290f-4a96-d5c0-8baeb888ec5e"
      },
      "outputs": [
        {
          "output_type": "stream",
          "name": "stderr",
          "text": [
            "[nltk_data] Downloading package wordnet to /root/nltk_data...\n",
            "[nltk_data] Downloading package omw-1.4 to /root/nltk_data...\n"
          ]
        },
        {
          "output_type": "execute_result",
          "data": {
            "text/plain": [
              "True"
            ]
          },
          "metadata": {},
          "execution_count": 16
        }
      ],
      "source": [
        "from nltk.stem import WordNetLemmatizer\n",
        "nltk.download('wordnet')\n",
        "lemmatizer = WordNetLemmatizer()\n",
        "nltk.download('omw-1.4')"
      ]
    },
    {
      "cell_type": "code",
      "execution_count": null,
      "metadata": {
        "colab": {
          "base_uri": "https://localhost:8080/"
        },
        "id": "zcoyNEvZgtGr",
        "outputId": "a3addfc7-1dea-4db9-d95e-d236c0d9a82f"
      },
      "outputs": [
        {
          "output_type": "stream",
          "name": "stderr",
          "text": [
            "<ipython-input-17-f316151f1e4e>:4: SettingWithCopyWarning: \n",
            "A value is trying to be set on a copy of a slice from a DataFrame.\n",
            "Try using .loc[row_indexer,col_indexer] = value instead\n",
            "\n",
            "See the caveats in the documentation: https://pandas.pydata.org/pandas-docs/stable/user_guide/indexing.html#returning-a-view-versus-a-copy\n",
            "  df['clean_text'] = df['clean_text'].apply(lambda x: lemmatizer_on_text(x))\n"
          ]
        },
        {
          "output_type": "execute_result",
          "data": {
            "text/plain": [
              "0    [promised, government, maximum, expected, begi...\n",
              "1              [talk, nonsense, continue, drama, vote]\n",
              "2    [say, vote, welcome, told, main, campaigner, t...\n",
              "3    [asking, supporters, prefix, names, great, ser...\n",
              "4    [answer, among, powerful, world, leader, today...\n",
              "Name: clean_text, dtype: object"
            ]
          },
          "metadata": {},
          "execution_count": 17
        }
      ],
      "source": [
        "def lemmatizer_on_text(data):\n",
        "    text = [lemmatizer.lemmatize(word) for word in data]\n",
        "    return data\n",
        "df['clean_text'] = df['clean_text'].apply(lambda x: lemmatizer_on_text(x))\n",
        "df['clean_text'].head()"
      ]
    },
    {
      "cell_type": "markdown",
      "metadata": {
        "id": "-cAleeBjiJq6"
      },
      "source": [
        "**Split into Train and Test**"
      ]
    },
    {
      "cell_type": "code",
      "execution_count": null,
      "metadata": {
        "colab": {
          "base_uri": "https://localhost:8080/"
        },
        "id": "1C8HqPb7_WDK",
        "outputId": "fa4750a8-4d06-4d7d-ea14-020e9bfe8926"
      },
      "outputs": [
        {
          "output_type": "stream",
          "name": "stdout",
          "text": [
            "Neutral: 55211\n",
            "Positive: 72249\n",
            "Negative: 35509\n",
            "Neutral:  33.87822223858525 %\n",
            "Negative:  21.78880646012432 %\n",
            "Positive:  44.33297130129043 %\n"
          ]
        }
      ],
      "source": [
        "print(\"Neutral:\",df.category.value_counts()[0])\n",
        "print(\"Positive:\",df.category.value_counts()[1])\n",
        "print(\"Negative:\",df.category.value_counts()[-1])\n",
        "print(\"Neutral: \", df.category.value_counts()[0]/len(df)*100,\"%\")\n",
        "print(\"Negative: \", df.category.value_counts()[-1]/len(df)*100,\"%\")\n",
        "print(\"Positive: \", df.category.value_counts()[1]/len(df)*100,\"%\")"
      ]
    },
    {
      "cell_type": "code",
      "source": [
        "import matplotlib.pyplot as plt\n",
        "plt.hist(df['category'])\n",
        "plt.xlabel('labels')\n",
        "plt.ylabel('count')\n",
        "plt.show()"
      ],
      "metadata": {
        "colab": {
          "base_uri": "https://localhost:8080/",
          "height": 449
        },
        "id": "-JNNVje-kqp7",
        "outputId": "6262bfde-6563-4e5b-9a5e-70ab6cfe7dd5"
      },
      "execution_count": null,
      "outputs": [
        {
          "output_type": "display_data",
          "data": {
            "text/plain": [
              "<Figure size 640x480 with 1 Axes>"
            ],
            "image/png": "[encoded data removed]"
          },
          "metadata": {}
        }
      ]
    },
    {
      "cell_type": "code",
      "execution_count": null,
      "metadata": {
        "colab": {
          "base_uri": "https://localhost:8080/"
        },
        "id": "V4dhAwr_4U5V",
        "outputId": "0600302c-c718-406f-f156-4eaf7b783009"
      },
      "outputs": [
        {
          "output_type": "stream",
          "name": "stdout",
          "text": [
            "Neutral: 72249\n",
            "Positive: 72249\n",
            "Negative: 72249\n"
          ]
        }
      ],
      "source": [
        "from sklearn.utils import resample\n",
        "\n",
        "df_majority = df[(df['category']==1)]\n",
        "df_minority = df[(df['category']==-1)]\n",
        "df_minority1 = df[(df['category']==0)]\n",
        "# upsample minority class\n",
        "df_minority_upsampled = resample(df_minority,\n",
        "                                 replace=True,\n",
        "                                 n_samples= 72249,\n",
        "                                 random_state=42)\n",
        "df_minority_upsampled1 = resample(df_minority1,\n",
        "                                 replace=True,\n",
        "                                 n_samples= 72249,\n",
        "                                 random_state=42)\n",
        "\n",
        "df_upsampled = pd.concat([df_minority_upsampled,df_minority_upsampled1, df_majority])\n",
        "print(\"Neutral:\",df_upsampled.category.value_counts()[0])\n",
        "print(\"Positive:\",df_upsampled.category.value_counts()[1])\n",
        "print(\"Negative:\",df_upsampled.category.value_counts()[-1])"
      ]
    },
    {
      "cell_type": "code",
      "source": [],
      "metadata": {
        "id": "g5Y1xsj4lZdM"
      },
      "execution_count": null,
      "outputs": []
    },
    {
      "cell_type": "code",
      "execution_count": null,
      "metadata": {
        "id": "2V50SPuOAgRo"
      },
      "outputs": [],
      "source": [
        "x=df_upsampled.clean_text\n",
        "y=df_upsampled.category"
      ]
    },
    {
      "cell_type": "code",
      "execution_count": null,
      "metadata": {
        "id": "9xM1FsfVAovd"
      },
      "outputs": [],
      "source": [
        "x_train, x_test, y_train, y_test = train_test_split(x, y,\n",
        "test_size=0.3, random_state=10,shuffle = True)"
      ]
    },
    {
      "cell_type": "code",
      "execution_count": null,
      "metadata": {
        "colab": {
          "base_uri": "https://localhost:8080/"
        },
        "id": "eHY-EAS8r5oV",
        "outputId": "3587f5cb-6a37-4e7d-fcce-973d3b501d77"
      },
      "outputs": [
        {
          "output_type": "execute_result",
          "data": {
            "text/plain": [
              "52212     [joined, elite, club, space, powers, shooting,...\n",
              "63052     [citizens, support, new, fighting, corruption,...\n",
              "49226     [shoots, satellite, missile, test, joining, sp...\n",
              "80540                                          [scientists]\n",
              "97289     [difference, speeches, 2014, 2019, time, tryin...\n",
              "                                ...                        \n",
              "81268              [2014, back, speech, going, troll, king]\n",
              "120552    [clue, sounds, pro, taking, gas, connections, ...\n",
              "92691     [hope, done, leaders, like, well, not, hope, s...\n",
              "65816     [chief, giving, govt, truth, mission, politics...\n",
              "103991                   [expect, guru, gives, clean, chit]\n",
              "Name: clean_text, Length: 65025, dtype: object"
            ]
          },
          "metadata": {},
          "execution_count": 23
        }
      ],
      "source": [
        "x_test"
      ]
    },
    {
      "cell_type": "code",
      "execution_count": null,
      "metadata": {
        "colab": {
          "base_uri": "https://localhost:8080/"
        },
        "id": "99lIDmhWJtFL",
        "outputId": "5ed75bda-bc38-4f34-86c2-e3f9b3d95d56"
      },
      "outputs": [
        {
          "output_type": "execute_result",
          "data": {
            "text/plain": [
              "52212     1.0\n",
              "63052     1.0\n",
              "49226     1.0\n",
              "80540     0.0\n",
              "97289    -1.0\n",
              "         ... \n",
              "81268     0.0\n",
              "120552    1.0\n",
              "92691    -1.0\n",
              "65816     0.0\n",
              "103991    1.0\n",
              "Name: category, Length: 65025, dtype: float64"
            ]
          },
          "metadata": {},
          "execution_count": 24
        }
      ],
      "source": [
        "y_test"
      ]
    },
    {
      "cell_type": "markdown",
      "metadata": {
        "id": "gGqMVeEzBw_y"
      },
      "source": [
        "# Feature Extraction"
      ]
    },
    {
      "cell_type": "markdown",
      "metadata": {
        "id": "L4xRdoVWiXUw"
      },
      "source": [
        "**TF-IDF Vectorizer**"
      ]
    },
    {
      "cell_type": "code",
      "execution_count": null,
      "metadata": {
        "id": "3FviGN30ikvL"
      },
      "outputs": [],
      "source": [
        "from sklearn.feature_extraction.text import TfidfVectorizer\n",
        "\n",
        "tfidf_vectorizer = TfidfVectorizer(ngram_range = (2,2))\n",
        "x_train_str = [' '.join(doc) for doc in x_train]\n",
        "tfidf_x_train = tfidf_vectorizer.fit_transform(x_train_str)\n",
        "x_test_str = [' '.join(doc) for doc in x_test]\n",
        "tfidf_x_test = tfidf_vectorizer.transform(x_test_str)\n",
        "tfidf_values = tfidf_x_train.toarray()\n",
        "#emoji_matrix = get_emoji_embedding_matrix(x_train)\n",
        "#X_combined = np.concatenate((tfidf_x_train.toarray(), emoji_matrix), axis=1)"
      ]
    },
    {
      "cell_type": "code",
      "execution_count": null,
      "metadata": {
        "id": "2QgPVO8tI3p7"
      },
      "outputs": [],
      "source": [
        "from sklearn.metrics import confusion_matrix, classification_report"
      ]
    },
    {
      "cell_type": "code",
      "execution_count": null,
      "metadata": {
        "id": "J1q7SVwTJ0IF"
      },
      "outputs": [],
      "source": [
        "from sklearn.svm import LinearSVC\n",
        "from sklearn.naive_bayes import BernoulliNB\n",
        "from sklearn.linear_model import LogisticRegression\n",
        "from sklearn.metrics import accuracy_score\n",
        "import seaborn as sns"
      ]
    },
    {
      "cell_type": "markdown",
      "metadata": {
        "id": "FQPfE6aAZmZ8"
      },
      "source": [
        "**BNB Model**"
      ]
    },
    {
      "cell_type": "code",
      "source": [
        "l=[]"
      ],
      "metadata": {
        "id": "OwOyLfGETg4C"
      },
      "execution_count": null,
      "outputs": []
    },
    {
      "cell_type": "code",
      "source": [
        "\n",
        "alpha=[0.1,0.2,0.3,0.4,0.5,0.6,0.7,0.8,0.9,1,2]"
      ],
      "metadata": {
        "id": "cn609qASStSi"
      },
      "execution_count": null,
      "outputs": []
    },
    {
      "cell_type": "code",
      "execution_count": null,
      "metadata": {
        "colab": {
          "base_uri": "https://localhost:8080/",
          "height": 244
        },
        "id": "oBBIMqUSJ58q",
        "outputId": "7c5a28e3-0493-46db-9367-ef6dab7978e1"
      },
      "outputs": [
        {
          "output_type": "stream",
          "name": "stdout",
          "text": [
            "              precision    recall  f1-score   support\n",
            "\n",
            "        -1.0       0.88      0.82      0.85     21615\n",
            "         0.0       0.68      0.94      0.79     21617\n",
            "         1.0       0.84      0.58      0.69     21793\n",
            "\n",
            "    accuracy                           0.78     65025\n",
            "   macro avg       0.80      0.78      0.78     65025\n",
            "weighted avg       0.80      0.78      0.77     65025\n",
            "\n"
          ]
        },
        {
          "output_type": "execute_result",
          "data": {
            "text/plain": [
              "'sns.heatmap(cf_matrix, annot = labels.flatten(), cmap = \\'Blues\\',fmt = \\'\\',xticklabels = categories, yticklabels = categories)\\nplt.xlabel(\"Predicted values\", fontdict = {\\'size\\':14}, labelpad = 10)\\nplt.ylabel(\"Actual values\" , fontdict = {\\'size\\':14}, labelpad = 10)\\nplt.title (\"Confusion Matrix\", fontdict = {\\'size\\':18}, pad = 20)\\nprint(y_pred)'"
            ],
            "application/vnd.google.colaboratory.intrinsic+json": {
              "type": "string"
            }
          },
          "metadata": {},
          "execution_count": 28
        }
      ],
      "source": [
        "BNBmodel = BernoulliNB(alpha = 0.1)\n",
        "BNBmodel.fit(tfidf_x_train, y_train)\n",
        "y_pred = BNBmodel.predict(tfidf_x_test)\n",
        "print(classification_report(y_test, y_pred))\n",
        "# Compute and plot the Confusion matrix\n",
        "cf_matrix = confusion_matrix(y_test, y_pred)\n",
        "categories = ['Negative','Positive']\n",
        "group_names = ['True Neg','False Pos', 'False Neg','True Pos']\n",
        "group_percentages = ['{0:.2%}'.format(value) for value in cf_matrix.flatten() / np.sum(cf_matrix)]\n",
        "labels = [f'{v1}n{v2}' for v1, v2 in zip(group_names,group_percentages)]\n",
        "labels = np.asarray(labels).reshape(2,2)\n",
        "\n",
        "'''sns.heatmap(cf_matrix, annot = labels.flatten(), cmap = 'Blues',fmt = '',xticklabels = categories, yticklabels = categories)\n",
        "plt.xlabel(\"Predicted values\", fontdict = {'size':14}, labelpad = 10)\n",
        "plt.ylabel(\"Actual values\" , fontdict = {'size':14}, labelpad = 10)\n",
        "plt.title (\"Confusion Matrix\", fontdict = {'size':18}, pad = 20)\n",
        "print(y_pred)'''\n"
      ]
    },
    {
      "cell_type": "code",
      "execution_count": null,
      "metadata": {
        "colab": {
          "base_uri": "https://localhost:8080/"
        },
        "id": "7PFBvmrQOa7-",
        "outputId": "1119d731-26af-43a4-e395-08f7aab3665d"
      },
      "outputs": [
        {
          "output_type": "stream",
          "name": "stdout",
          "text": [
            "0.7793617839292579\n"
          ]
        }
      ],
      "source": [
        "accuracy = accuracy_score(y_test, y_pred)\n",
        "print(accuracy)\n"
      ]
    },
    {
      "cell_type": "code",
      "source": [
        "plt.plot(alpha,l)\n",
        "plt.xlabel(\"alpha\")\n",
        "plt.ylabel(\"Accuracy\")\n",
        "plt.title(\"Tuning alpha parameter in BNB Model\")"
      ],
      "metadata": {
        "colab": {
          "base_uri": "https://localhost:8080/",
          "height": 489
        },
        "id": "nUtVzkJkTkv7",
        "outputId": "890de6e7-d8dc-4e41-c281-6ae1eee64066"
      },
      "execution_count": null,
      "outputs": [
        {
          "output_type": "execute_result",
          "data": {
            "text/plain": [
              "Text(0.5, 1.0, 'Tuning alpha parameter in BNB Model')"
            ]
          },
          "metadata": {},
          "execution_count": 123
        },
        {
          "output_type": "display_data",
          "data": {
            "text/plain": [
              "<Figure size 640x480 with 1 Axes>"
            ],
            "image/png": "[encoded data removed]"
          },
          "metadata": {}
        }
      ]
    },
    {
      "cell_type": "markdown",
      "metadata": {
        "id": "X3VJcS02TG2O"
      },
      "source": [
        "**MNB Model**"
      ]
    },
    {
      "cell_type": "code",
      "source": [
        "#l=[]"
      ],
      "metadata": {
        "id": "83wT0hHSPPnK"
      },
      "execution_count": null,
      "outputs": []
    },
    {
      "cell_type": "code",
      "execution_count": null,
      "metadata": {
        "colab": {
          "base_uri": "https://localhost:8080/"
        },
        "id": "_nn1J5fmTA_y",
        "outputId": "8c15190b-587b-41c3-e45a-cc204b51645e"
      },
      "outputs": [
        {
          "output_type": "stream",
          "name": "stdout",
          "text": [
            "              precision    recall  f1-score   support\n",
            "\n",
            "        -1.0       0.70      0.89      0.78     21615\n",
            "         0.0       0.82      0.71      0.76     21617\n",
            "         1.0       0.80      0.69      0.74     21793\n",
            "\n",
            "    accuracy                           0.76     65025\n",
            "   macro avg       0.77      0.76      0.76     65025\n",
            "weighted avg       0.77      0.76      0.76     65025\n",
            "\n",
            "0.7643521722414456\n"
          ]
        }
      ],
      "source": [
        "from sklearn.naive_bayes import MultinomialNB\n",
        "mnb = MultinomialNB(alpha=0.1)\n",
        "mnb.fit(tfidf_x_train, y_train)\n",
        "y_pred = mnb.predict(tfidf_x_test)\n",
        "print(classification_report(y_test, y_pred))\n",
        "# Compute and plot the Confusion matrix\n",
        "cf_matrix = confusion_matrix(y_test, y_pred)\n",
        "categories = ['Negative','Positive']\n",
        "group_names = ['True Neg','False Pos', 'False Neg','True Pos']\n",
        "group_percentages = ['{0:.2%}'.format(value) for value in cf_matrix.flatten() / np.sum(cf_matrix)]\n",
        "labels = [f'{v1}n{v2}' for v1, v2 in zip(group_names,group_percentages)]\n",
        "labels = np.asarray(labels).reshape(2,2)\n",
        "accuracy = accuracy_score(y_test, y_pred)\n",
        "print(accuracy)\n"
      ]
    },
    {
      "cell_type": "code",
      "source": [
        "alpha=[0.1,0.2,0.3,0.4,0.5,0.6,0.8,0.8,0.9,1]"
      ],
      "metadata": {
        "id": "kA4bMR4QPnf4"
      },
      "execution_count": null,
      "outputs": []
    },
    {
      "cell_type": "code",
      "source": [
        "print(l)"
      ],
      "metadata": {
        "colab": {
          "base_uri": "https://localhost:8080/"
        },
        "id": "SE_ZuZadPKaZ",
        "outputId": "2a0144aa-3125-495c-f4aa-d1ec9d170643"
      },
      "execution_count": null,
      "outputs": [
        {
          "output_type": "stream",
          "name": "stdout",
          "text": [
            "[0.7643521722414456, 0.7610765090349866, 0.7583083429450211, 0.7566628219915417, 0.7545251826220685, 0.7531410995770857, 0.7512341407151095, 0.750080738177624, 0.7492195309496348, 0.748081507112649]\n"
          ]
        }
      ]
    },
    {
      "cell_type": "code",
      "source": [
        "plt.plot(alpha,l)\n",
        "plt.xlabel(\"alpha\")\n",
        "plt.ylabel(\"Accuracy\")\n",
        "plt.title(\"Tuning alpha parameter in BNB model\")"
      ],
      "metadata": {
        "colab": {
          "base_uri": "https://localhost:8080/",
          "height": 489
        },
        "id": "WAIuXZ4nPthA",
        "outputId": "85905b9d-4297-4260-b75c-c5ed37c23fde"
      },
      "execution_count": null,
      "outputs": [
        {
          "output_type": "execute_result",
          "data": {
            "text/plain": [
              "Text(0.5, 1.0, 'Tuning alpha parameter in BNB model')"
            ]
          },
          "metadata": {},
          "execution_count": 72
        },
        {
          "output_type": "display_data",
          "data": {
            "text/plain": [
              "<Figure size 640x480 with 1 Axes>"
            ],
            "image/png": "[encoded data removed]"
          },
          "metadata": {}
        }
      ]
    },
    {
      "cell_type": "markdown",
      "metadata": {
        "id": "sDY_p0RYaRMX"
      },
      "source": [
        "**SVC Model**"
      ]
    },
    {
      "cell_type": "code",
      "execution_count": null,
      "metadata": {
        "colab": {
          "base_uri": "https://localhost:8080/"
        },
        "id": "ffKmi2NWZpkl",
        "outputId": "d68f40ca-6e69-4f2c-d7dc-a46a795e0abd"
      },
      "outputs": [
        {
          "output_type": "stream",
          "name": "stdout",
          "text": [
            "              precision    recall  f1-score   support\n",
            "\n",
            "        -1.0       0.86      0.88      0.87     21615\n",
            "         0.0       0.76      0.88      0.81     21617\n",
            "         1.0       0.82      0.68      0.75     21793\n",
            "\n",
            "    accuracy                           0.81     65025\n",
            "   macro avg       0.81      0.81      0.81     65025\n",
            "weighted avg       0.81      0.81      0.81     65025\n",
            "\n"
          ]
        }
      ],
      "source": [
        "SVCmodel = LinearSVC()\n",
        "SVCmodel.fit(tfidf_x_train, y_train)\n",
        "y_pred1 = SVCmodel.predict(tfidf_x_test)\n",
        "print(classification_report(y_test, y_pred1))\n",
        "# Compute and plot the Confusion matrix\n",
        "cf_matrix = confusion_matrix(y_test, y_pred1)\n",
        "categories = ['Negative','Positive']\n",
        "group_names = ['True Neg','False Pos', 'False Neg','True Pos']\n",
        "group_percentages = ['{0:.2%}'.format(value) for value in cf_matrix.flatten() / np.sum(cf_matrix)]\n",
        "labels = [f'{v1}n{v2}' for v1, v2 in zip(group_names,group_percentages)]\n",
        "labels = np.asarray(labels).reshape(2,2)\n"
      ]
    },
    {
      "cell_type": "code",
      "execution_count": null,
      "metadata": {
        "colab": {
          "base_uri": "https://localhost:8080/"
        },
        "id": "fyAF68GTZ9bw",
        "outputId": "1ac8afe4-c9d9-4d54-e50a-3074d681fabb"
      },
      "outputs": [
        {
          "output_type": "stream",
          "name": "stdout",
          "text": [
            "0.8119338715878508\n"
          ]
        }
      ],
      "source": [
        "accuracy = accuracy_score(y_test, y_pred1)\n",
        "print(accuracy)"
      ]
    },
    {
      "cell_type": "code",
      "source": [
        "x=['BNB','MNB','SVC','LR']\n",
        "y=[77,74,81,80.74]\n",
        "plt.plot(x,y)\n",
        "plt.xlabel(\"Model\")\n",
        "plt.ylabel(\"Accuracy in %\")\n",
        "plt.title(\"Accuracy for different models\")"
      ],
      "metadata": {
        "colab": {
          "base_uri": "https://localhost:8080/",
          "height": 489
        },
        "id": "x4j4ehMnVRZ_",
        "outputId": "5486e9b6-e781-4670-9a61-21b71c654969"
      },
      "execution_count": null,
      "outputs": [
        {
          "output_type": "execute_result",
          "data": {
            "text/plain": [
              "Text(0.5, 1.0, 'Accuracy for different models')"
            ]
          },
          "metadata": {},
          "execution_count": 37
        },
        {
          "output_type": "display_data",
          "data": {
            "text/plain": [
              "<Figure size 640x480 with 1 Axes>"
            ],
            "image/png": "[encoded data removed]"
          },
          "metadata": {}
        }
      ]
    },
    {
      "cell_type": "markdown",
      "metadata": {
        "id": "QXXcstUh_a3c"
      },
      "source": [
        "**LR Model**"
      ]
    },
    {
      "cell_type": "code",
      "execution_count": null,
      "metadata": {
        "colab": {
          "base_uri": "https://localhost:8080/"
        },
        "id": "FMMbtumMaVPG",
        "outputId": "a07059c6-40b4-4274-937f-8954bb2564c5"
      },
      "outputs": [
        {
          "output_type": "stream",
          "name": "stdout",
          "text": [
            "              precision    recall  f1-score   support\n",
            "\n",
            "        -1.0       0.85      0.87      0.86     21615\n",
            "         0.0       0.76      0.87      0.81     21617\n",
            "         1.0       0.81      0.68      0.74     21793\n",
            "\n",
            "    accuracy                           0.81     65025\n",
            "   macro avg       0.81      0.81      0.81     65025\n",
            "weighted avg       0.81      0.81      0.81     65025\n",
            "\n"
          ]
        }
      ],
      "source": [
        "LRmodel = LogisticRegression(C = 2, max_iter = 1000, n_jobs=-1)\n",
        "LRmodel.fit(tfidf_x_train, y_train)\n",
        "y_pred2 = LRmodel.predict(tfidf_x_test)\n",
        "print(classification_report(y_test, y_pred2))\n",
        "# Compute and plot the Confusion matrix\n",
        "cf_matrix = confusion_matrix(y_test, y_pred2)\n",
        "categories = ['Negative','Positive']\n",
        "group_names = ['True Neg','False Pos', 'False Neg','True Pos']\n",
        "group_percentages = ['{0:.2%}'.format(value) for value in cf_matrix.flatten() / np.sum(cf_matrix)]\n",
        "labels = [f'{v1}n{v2}' for v1, v2 in zip(group_names,group_percentages)]\n",
        "labels = np.asarray(labels).reshape(2,2)"
      ]
    },
    {
      "cell_type": "code",
      "execution_count": null,
      "metadata": {
        "colab": {
          "base_uri": "https://localhost:8080/"
        },
        "id": "NLiZzmcvalIu",
        "outputId": "f491c3a7-f00a-471d-bb0a-5c164481f451"
      },
      "outputs": [
        {
          "metadata": {
            "tags": null
          },
          "name": "stdout",
          "output_type": "stream",
          "text": [
            "0.8074586697424068\n"
          ]
        }
      ],
      "source": [
        "accuracy = accuracy_score(y_test, y_pred2)\n",
        "print(accuracy)"
      ]
    },
    {
      "cell_type": "code",
      "execution_count": null,
      "metadata": {
        "id": "GEmYlMPKQ2Q3",
        "colab": {
          "base_uri": "https://localhost:8080/"
        },
        "outputId": "70be71a5-16c8-4e09-9c26-916989edb205"
      },
      "outputs": [
        {
          "output_type": "stream",
          "name": "stdout",
          "text": [
            "Enter the Tweet\n",
            "I am not good\n",
            "[0.]\n",
            "Prediction by BNB Model\n",
            "Neutral\n",
            "[-1.]\n",
            "Prediction by SVC Model\n",
            "Negative\n",
            "[-1.]\n",
            "Prediction by LR Model\n",
            "Negative\n"
          ]
        }
      ],
      "source": [
        "print(\"Enter the Tweet\")\n",
        "ip = input()\n",
        "ip = removing_stopwords(ip)\n",
        "ip = tweet_tokenizer.tokenize(ip)\n",
        "ip = lemmatizer_on_text(ip)\n",
        "ip = ' '.join(ip)\n",
        "ip = [ip]\n",
        "tfidf_ip = tfidf_vectorizer.transform(ip)\n",
        "YBNB = BNBmodel.predict(tfidf_ip)\n",
        "print(YBNB)\n",
        "print('Prediction by BNB Model')\n",
        "if(YBNB[0]==1.):\n",
        "  print('Positive')\n",
        "elif(YBNB[0]==0.0):\n",
        "  print('Neutral')\n",
        "else:\n",
        "  print('Negative')\n",
        "\n",
        "YSVC = SVCmodel.predict(tfidf_ip)\n",
        "print(YSVC)\n",
        "print('Prediction by SVC Model')\n",
        "if(YSVC[0]==1.):\n",
        "  print('Positive')\n",
        "elif(YSVC[0]==0.0):\n",
        "  print('Neutral')\n",
        "else:\n",
        "  print('Negative')\n",
        "\n",
        "YLR = LRmodel.predict(tfidf_ip)\n",
        "print(YLR)\n",
        "print('Prediction by LR Model')\n",
        "if(YLR[0]==1.):\n",
        "  print('Positive')\n",
        "elif(YLR[0]==0.0):\n",
        "  print('Neutral')\n",
        "else:\n",
        "  print('Negative')"
      ]
    },
    {
      "cell_type": "code",
      "execution_count": null,
      "metadata": {
        "colab": {
          "base_uri": "https://localhost:8080/"
        },
        "id": "ySLSdDbWSBMw",
        "outputId": "2dd94824-b7bc-4486-f675-3d1238afa92b"
      },
      "outputs": [
        {
          "output_type": "stream",
          "name": "stdout",
          "text": [
            "[1.]\n",
            "Prediction by BNB Model\n",
            "Positive\n"
          ]
        }
      ],
      "source": [
        "YBNB = BNBmodel.predict(tfidf_ip)\n",
        "print(YBNB)\n",
        "print('Prediction by BNB Model')\n",
        "if(YBNB[0]==1.):\n",
        "  print('Positive')\n",
        "elif(YBNB[0]==0.0):\n",
        "  print('Neutral')\n",
        "else:\n",
        "  print('Negative')"
      ]
    },
    {
      "cell_type": "code",
      "execution_count": null,
      "metadata": {
        "colab": {
          "base_uri": "https://localhost:8080/"
        },
        "id": "9dCk7XHJaFxk",
        "outputId": "87d268fc-b2b0-403a-a423-673953b6f1ba"
      },
      "outputs": [
        {
          "output_type": "stream",
          "name": "stdout",
          "text": [
            "[1.]\n",
            "Prediction by SVC Model\n",
            "Positive\n"
          ]
        }
      ],
      "source": [
        "YSVC = SVCmodel.predict(tfidf_ip)\n",
        "print(YSVC)\n",
        "print('Prediction by SVC Model')\n",
        "if(YSVC[0]==1.):\n",
        "  print('Positive')\n",
        "elif(YSVC[0]==0.0):\n",
        "  print('Neutral')\n",
        "else:\n",
        "  print('Negative')"
      ]
    },
    {
      "cell_type": "code",
      "execution_count": null,
      "metadata": {
        "colab": {
          "base_uri": "https://localhost:8080/"
        },
        "id": "thRqrmy5aueJ",
        "outputId": "c7272677-a985-45b1-ee25-36fa7f1e9a0d"
      },
      "outputs": [
        {
          "output_type": "stream",
          "name": "stdout",
          "text": [
            "[1.]\n",
            "Prediction by LR Model\n",
            "Positive\n"
          ]
        }
      ],
      "source": [
        "YLR = LRmodel.predict(tfidf_ip)\n",
        "print(YLR)\n",
        "print('Prediction by LR Model')\n",
        "if(YLR[0]==1.):\n",
        "  print('Positive')\n",
        "elif(YLR[0]==0.0):\n",
        "  print('Neutral')\n",
        "else:\n",
        "  print('Negative')"
      ]
    }
  ],
  "metadata": {
    "colab": {
      "provenance": []
    },
    "kernelspec": {
      "display_name": "Python 3",
      "name": "python3"
    },
    "language_info": {
      "name": "python"
    }
  },
  "nbformat": 4,
  "nbformat_minor": 0
}