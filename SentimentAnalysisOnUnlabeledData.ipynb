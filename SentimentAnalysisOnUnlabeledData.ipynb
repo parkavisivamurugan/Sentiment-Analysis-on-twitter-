{
  "cells": [
    {
      "cell_type": "code",
      "execution_count": null,
      "metadata": {
        "id": "ewxt6_sCD5-x"
      },
      "outputs": [],
      "source": [
        "import pandas as pd\n",
        "import matplotlib.pyplot as plt\n",
        "import numpy as np"
      ]
    },
    {
      "cell_type": "code",
      "execution_count": null,
      "metadata": {
        "colab": {
          "base_uri": "https://localhost:8080/",
          "height": 904
        },
        "id": "FjDxQTBLEKDC",
        "outputId": "a8a24ba1-1aff-422a-f22b-6f20b64339c3"
      },
      "outputs": [
        {
          "output_type": "execute_result",
          "data": {
            "text/plain": [
              "                     user_name               user_location  \\\n",
              "0                       ᏉᎥ☻լꂅϮ                  astroworld   \n",
              "1                Tom Basile 🇺🇸                New York, NY   \n",
              "2              Time4fisticuffs            Pewee Valley, KY   \n",
              "3                  ethel mertz        Stuck in the Middle    \n",
              "4                     DIPR-J&K           Jammu and Kashmir   \n",
              "...                        ...                         ...   \n",
              "179103  AJIMATI AbdulRahman O.             Ilorin, Nigeria   \n",
              "179104                   Jason                     Ontario   \n",
              "179105             BEEHEMOTH ⏳                   🇨🇦 Canada   \n",
              "179106           Gary DelPonte               New York City   \n",
              "179107                 TUKY II  Aliwal North, South Africa   \n",
              "\n",
              "                                         user_description  \\\n",
              "0       wednesday addams as a disney princess keepin i...   \n",
              "1       Husband, Father, Columnist & Commentator. Auth...   \n",
              "2       #Christian #Catholic #Conservative #Reagan #Re...   \n",
              "3       #Browns #Indians #ClevelandProud #[]_[] #Cavs ...   \n",
              "4       🖊️Official Twitter handle of Department of Inf...   \n",
              "...                                                   ...   \n",
              "179103    Animal Scientist|| Muslim|| Real Madrid/Chelsea   \n",
              "179104  When your cat has more baking soda than Ninja ...   \n",
              "179105  ⚒️ The Architects of Free Trade ⚒️ Really Did ...   \n",
              "179106  Global UX UI Visual Designer. StoryTeller, Mus...   \n",
              "179107  TOKELO SEKHOPA | TUKY II | LAST BORN | EISH TU...   \n",
              "\n",
              "               user_created  user_followers  user_friends  user_favourites  \\\n",
              "0       2017-05-26 05:46:42             624           950            18775   \n",
              "1       2009-04-16 20:06:23            2253          1677               24   \n",
              "2       2009-02-28 18:57:41            9275          9525             7254   \n",
              "3       2019-03-07 01:45:06             197           987             1488   \n",
              "4       2017-02-12 06:45:15          101009           168              101   \n",
              "...                     ...             ...           ...              ...   \n",
              "179103  2013-12-30 18:59:19             412          1609             1062   \n",
              "179104  2011-12-21 04:41:30             150           182             7295   \n",
              "179105  2016-07-13 17:21:59            1623          2160            98000   \n",
              "179106  2009-10-27 17:43:13            1338          1111                0   \n",
              "179107  2018-04-14 17:30:07              97          1697              566   \n",
              "\n",
              "        user_verified                 date  \\\n",
              "0               False  2020-07-25 12:27:21   \n",
              "1                True  2020-07-25 12:27:17   \n",
              "2               False  2020-07-25 12:27:14   \n",
              "3               False  2020-07-25 12:27:10   \n",
              "4               False  2020-07-25 12:27:08   \n",
              "...               ...                  ...   \n",
              "179103          False  2020-08-29 19:44:21   \n",
              "179104          False  2020-08-29 19:44:16   \n",
              "179105          False  2020-08-29 19:44:15   \n",
              "179106          False  2020-08-29 19:44:14   \n",
              "179107          False  2020-08-29 19:44:08   \n",
              "\n",
              "                                                     text  \\\n",
              "0       If I smelled the scent of hand sanitizers toda...   \n",
              "1       Hey @Yankees @YankeesPR and @MLB - wouldn't it...   \n",
              "2       @diane3443 @wdunlap @realDonaldTrump Trump nev...   \n",
              "3       @brookbanktv The one gift #COVID19 has give me...   \n",
              "4       25 July : Media Bulletin on Novel #CoronaVirus...   \n",
              "...                                                   ...   \n",
              "179103  Thanks @IamOhmai for nominating me for the @WH...   \n",
              "179104  2020! The year of insanity! Lol! #COVID19 http...   \n",
              "179105  @CTVNews A powerful painting by Juan Lucena. I...   \n",
              "179106  More than 1,200 students test positive for #CO...   \n",
              "179107  I stop when I see a Stop\\n\\n@SABCNews\\n@Izinda...   \n",
              "\n",
              "                                 hashtags               source  is_retweet  \n",
              "0                                     NaN   Twitter for iPhone       False  \n",
              "1                                     NaN  Twitter for Android       False  \n",
              "2                             ['COVID19']  Twitter for Android       False  \n",
              "3                             ['COVID19']   Twitter for iPhone       False  \n",
              "4       ['CoronaVirusUpdates', 'COVID19']  Twitter for Android       False  \n",
              "...                                   ...                  ...         ...  \n",
              "179103                      ['WearAMask']  Twitter for Android       False  \n",
              "179104                        ['COVID19']  Twitter for Android       False  \n",
              "179105                                NaN      Twitter Web App       False  \n",
              "179106                        ['COVID19']   Twitter for iPhone       False  \n",
              "179107                                NaN  Twitter for Android       False  \n",
              "\n",
              "[179108 rows x 13 columns]"
            ],
            "text/html": [
              "\n",
              "  <div id=\"df-c00db545-f3c7-4d19-91e6-7786966b4a4c\">\n",
              "    <div class=\"colab-df-container\">\n",
              "      <div>\n",
              "<style scoped>\n",
              "    .dataframe tbody tr th:only-of-type {\n",
              "        vertical-align: middle;\n",
              "    }\n",
              "\n",
              "    .dataframe tbody tr th {\n",
              "        vertical-align: top;\n",
              "    }\n",
              "\n",
              "    .dataframe thead th {\n",
              "        text-align: right;\n",
              "    }\n",
              "</style>\n",
              "<table border=\"1\" class=\"dataframe\">\n",
              "  <thead>\n",
              "    <tr style=\"text-align: right;\">\n",
              "      <th></th>\n",
              "      <th>user_name</th>\n",
              "      <th>user_location</th>\n",
              "      <th>user_description</th>\n",
              "      <th>user_created</th>\n",
              "      <th>user_followers</th>\n",
              "      <th>user_friends</th>\n",
              "      <th>user_favourites</th>\n",
              "      <th>user_verified</th>\n",
              "      <th>date</th>\n",
              "      <th>text</th>\n",
              "      <th>hashtags</th>\n",
              "      <th>source</th>\n",
              "      <th>is_retweet</th>\n",
              "    </tr>\n",
              "  </thead>\n",
              "  <tbody>\n",
              "    <tr>\n",
              "      <th>0</th>\n",
              "      <td>ᏉᎥ☻լꂅϮ</td>\n",
              "      <td>astroworld</td>\n",
              "      <td>wednesday addams as a disney princess keepin i...</td>\n",
              "      <td>2017-05-26 05:46:42</td>\n",
              "      <td>624</td>\n",
              "      <td>950</td>\n",
              "      <td>18775</td>\n",
              "      <td>False</td>\n",
              "      <td>2020-07-25 12:27:21</td>\n",
              "      <td>If I smelled the scent of hand sanitizers toda...</td>\n",
              "      <td>NaN</td>\n",
              "      <td>Twitter for iPhone</td>\n",
              "      <td>False</td>\n",
              "    </tr>\n",
              "    <tr>\n",
              "      <th>1</th>\n",
              "      <td>Tom Basile 🇺🇸</td>\n",
              "      <td>New York, NY</td>\n",
              "      <td>Husband, Father, Columnist &amp; Commentator. Auth...</td>\n",
              "      <td>2009-04-16 20:06:23</td>\n",
              "      <td>2253</td>\n",
              "      <td>1677</td>\n",
              "      <td>24</td>\n",
              "      <td>True</td>\n",
              "      <td>2020-07-25 12:27:17</td>\n",
              "      <td>Hey @Yankees @YankeesPR and @MLB - wouldn't it...</td>\n",
              "      <td>NaN</td>\n",
              "      <td>Twitter for Android</td>\n",
              "      <td>False</td>\n",
              "    </tr>\n",
              "    <tr>\n",
              "      <th>2</th>\n",
              "      <td>Time4fisticuffs</td>\n",
              "      <td>Pewee Valley, KY</td>\n",
              "      <td>#Christian #Catholic #Conservative #Reagan #Re...</td>\n",
              "      <td>2009-02-28 18:57:41</td>\n",
              "      <td>9275</td>\n",
              "      <td>9525</td>\n",
              "      <td>7254</td>\n",
              "      <td>False</td>\n",
              "      <td>2020-07-25 12:27:14</td>\n",
              "      <td>@diane3443 @wdunlap @realDonaldTrump Trump nev...</td>\n",
              "      <td>['COVID19']</td>\n",
              "      <td>Twitter for Android</td>\n",
              "      <td>False</td>\n",
              "    </tr>\n",
              "    <tr>\n",
              "      <th>3</th>\n",
              "      <td>ethel mertz</td>\n",
              "      <td>Stuck in the Middle</td>\n",
              "      <td>#Browns #Indians #ClevelandProud #[]_[] #Cavs ...</td>\n",
              "      <td>2019-03-07 01:45:06</td>\n",
              "      <td>197</td>\n",
              "      <td>987</td>\n",
              "      <td>1488</td>\n",
              "      <td>False</td>\n",
              "      <td>2020-07-25 12:27:10</td>\n",
              "      <td>@brookbanktv The one gift #COVID19 has give me...</td>\n",
              "      <td>['COVID19']</td>\n",
              "      <td>Twitter for iPhone</td>\n",
              "      <td>False</td>\n",
              "    </tr>\n",
              "    <tr>\n",
              "      <th>4</th>\n",
              "      <td>DIPR-J&amp;K</td>\n",
              "      <td>Jammu and Kashmir</td>\n",
              "      <td>🖊️Official Twitter handle of Department of Inf...</td>\n",
              "      <td>2017-02-12 06:45:15</td>\n",
              "      <td>101009</td>\n",
              "      <td>168</td>\n",
              "      <td>101</td>\n",
              "      <td>False</td>\n",
              "      <td>2020-07-25 12:27:08</td>\n",
              "      <td>25 July : Media Bulletin on Novel #CoronaVirus...</td>\n",
              "      <td>['CoronaVirusUpdates', 'COVID19']</td>\n",
              "      <td>Twitter for Android</td>\n",
              "      <td>False</td>\n",
              "    </tr>\n",
              "    <tr>\n",
              "      <th>...</th>\n",
              "      <td>...</td>\n",
              "      <td>...</td>\n",
              "      <td>...</td>\n",
              "      <td>...</td>\n",
              "      <td>...</td>\n",
              "      <td>...</td>\n",
              "      <td>...</td>\n",
              "      <td>...</td>\n",
              "      <td>...</td>\n",
              "      <td>...</td>\n",
              "      <td>...</td>\n",
              "      <td>...</td>\n",
              "      <td>...</td>\n",
              "    </tr>\n",
              "    <tr>\n",
              "      <th>179103</th>\n",
              "      <td>AJIMATI AbdulRahman O.</td>\n",
              "      <td>Ilorin, Nigeria</td>\n",
              "      <td>Animal Scientist|| Muslim|| Real Madrid/Chelsea</td>\n",
              "      <td>2013-12-30 18:59:19</td>\n",
              "      <td>412</td>\n",
              "      <td>1609</td>\n",
              "      <td>1062</td>\n",
              "      <td>False</td>\n",
              "      <td>2020-08-29 19:44:21</td>\n",
              "      <td>Thanks @IamOhmai for nominating me for the @WH...</td>\n",
              "      <td>['WearAMask']</td>\n",
              "      <td>Twitter for Android</td>\n",
              "      <td>False</td>\n",
              "    </tr>\n",
              "    <tr>\n",
              "      <th>179104</th>\n",
              "      <td>Jason</td>\n",
              "      <td>Ontario</td>\n",
              "      <td>When your cat has more baking soda than Ninja ...</td>\n",
              "      <td>2011-12-21 04:41:30</td>\n",
              "      <td>150</td>\n",
              "      <td>182</td>\n",
              "      <td>7295</td>\n",
              "      <td>False</td>\n",
              "      <td>2020-08-29 19:44:16</td>\n",
              "      <td>2020! The year of insanity! Lol! #COVID19 http...</td>\n",
              "      <td>['COVID19']</td>\n",
              "      <td>Twitter for Android</td>\n",
              "      <td>False</td>\n",
              "    </tr>\n",
              "    <tr>\n",
              "      <th>179105</th>\n",
              "      <td>BEEHEMOTH ⏳</td>\n",
              "      <td>🇨🇦 Canada</td>\n",
              "      <td>⚒️ The Architects of Free Trade ⚒️ Really Did ...</td>\n",
              "      <td>2016-07-13 17:21:59</td>\n",
              "      <td>1623</td>\n",
              "      <td>2160</td>\n",
              "      <td>98000</td>\n",
              "      <td>False</td>\n",
              "      <td>2020-08-29 19:44:15</td>\n",
              "      <td>@CTVNews A powerful painting by Juan Lucena. I...</td>\n",
              "      <td>NaN</td>\n",
              "      <td>Twitter Web App</td>\n",
              "      <td>False</td>\n",
              "    </tr>\n",
              "    <tr>\n",
              "      <th>179106</th>\n",
              "      <td>Gary DelPonte</td>\n",
              "      <td>New York City</td>\n",
              "      <td>Global UX UI Visual Designer. StoryTeller, Mus...</td>\n",
              "      <td>2009-10-27 17:43:13</td>\n",
              "      <td>1338</td>\n",
              "      <td>1111</td>\n",
              "      <td>0</td>\n",
              "      <td>False</td>\n",
              "      <td>2020-08-29 19:44:14</td>\n",
              "      <td>More than 1,200 students test positive for #CO...</td>\n",
              "      <td>['COVID19']</td>\n",
              "      <td>Twitter for iPhone</td>\n",
              "      <td>False</td>\n",
              "    </tr>\n",
              "    <tr>\n",
              "      <th>179107</th>\n",
              "      <td>TUKY II</td>\n",
              "      <td>Aliwal North, South Africa</td>\n",
              "      <td>TOKELO SEKHOPA | TUKY II | LAST BORN | EISH TU...</td>\n",
              "      <td>2018-04-14 17:30:07</td>\n",
              "      <td>97</td>\n",
              "      <td>1697</td>\n",
              "      <td>566</td>\n",
              "      <td>False</td>\n",
              "      <td>2020-08-29 19:44:08</td>\n",
              "      <td>I stop when I see a Stop\\n\\n@SABCNews\\n@Izinda...</td>\n",
              "      <td>NaN</td>\n",
              "      <td>Twitter for Android</td>\n",
              "      <td>False</td>\n",
              "    </tr>\n",
              "  </tbody>\n",
              "</table>\n",
              "<p>179108 rows × 13 columns</p>\n",
              "</div>\n",
              "      <button class=\"colab-df-convert\" onclick=\"convertToInteractive('df-c00db545-f3c7-4d19-91e6-7786966b4a4c')\"\n",
              "              title=\"Convert this dataframe to an interactive table.\"\n",
              "              style=\"display:none;\">\n",
              "        \n",
              "  <svg xmlns=\"http://www.w3.org/2000/svg\" height=\"24px\"viewBox=\"0 0 24 24\"\n",
              "       width=\"24px\">\n",
              "    <path d=\"M0 0h24v24H0V0z\" fill=\"none\"/>\n",
              "    <path d=\"M18.56 5.44l.94 2.06.94-2.06 2.06-.94-2.06-.94-.94-2.06-.94 2.06-2.06.94zm-11 1L8.5 8.5l.94-2.06 2.06-.94-2.06-.94L8.5 2.5l-.94 2.06-2.06.94zm10 10l.94 2.06.94-2.06 2.06-.94-2.06-.94-.94-2.06-.94 2.06-2.06.94z\"/><path d=\"M17.41 7.96l-1.37-1.37c-.4-.4-.92-.59-1.43-.59-.52 0-1.04.2-1.43.59L10.3 9.45l-7.72 7.72c-.78.78-.78 2.05 0 2.83L4 21.41c.39.39.9.59 1.41.59.51 0 1.02-.2 1.41-.59l7.78-7.78 2.81-2.81c.8-.78.8-2.07 0-2.86zM5.41 20L4 18.59l7.72-7.72 1.47 1.35L5.41 20z\"/>\n",
              "  </svg>\n",
              "      </button>\n",
              "      \n",
              "  <style>\n",
              "    .colab-df-container {\n",
              "      display:flex;\n",
              "      flex-wrap:wrap;\n",
              "      gap: 12px;\n",
              "    }\n",
              "\n",
              "    .colab-df-convert {\n",
              "      background-color: #E8F0FE;\n",
              "      border: none;\n",
              "      border-radius: 50%;\n",
              "      cursor: pointer;\n",
              "      display: none;\n",
              "      fill: #1967D2;\n",
              "      height: 32px;\n",
              "      padding: 0 0 0 0;\n",
              "      width: 32px;\n",
              "    }\n",
              "\n",
              "    .colab-df-convert:hover {\n",
              "      background-color: #E2EBFA;\n",
              "      box-shadow: 0px 1px 2px rgba(60, 64, 67, 0.3), 0px 1px 3px 1px rgba(60, 64, 67, 0.15);\n",
              "      fill: #174EA6;\n",
              "    }\n",
              "\n",
              "    [theme=dark] .colab-df-convert {\n",
              "      background-color: #3B4455;\n",
              "      fill: #D2E3FC;\n",
              "    }\n",
              "\n",
              "    [theme=dark] .colab-df-convert:hover {\n",
              "      background-color: #434B5C;\n",
              "      box-shadow: 0px 1px 3px 1px rgba(0, 0, 0, 0.15);\n",
              "      filter: drop-shadow(0px 1px 2px rgba(0, 0, 0, 0.3));\n",
              "      fill: #FFFFFF;\n",
              "    }\n",
              "  </style>\n",
              "\n",
              "      <script>\n",
              "        const buttonEl =\n",
              "          document.querySelector('#df-c00db545-f3c7-4d19-91e6-7786966b4a4c button.colab-df-convert');\n",
              "        buttonEl.style.display =\n",
              "          google.colab.kernel.accessAllowed ? 'block' : 'none';\n",
              "\n",
              "        async function convertToInteractive(key) {\n",
              "          const element = document.querySelector('#df-c00db545-f3c7-4d19-91e6-7786966b4a4c');\n",
              "          const dataTable =\n",
              "            await google.colab.kernel.invokeFunction('convertToInteractive',\n",
              "                                                     [key], {});\n",
              "          if (!dataTable) return;\n",
              "\n",
              "          const docLinkHtml = 'Like what you see? Visit the ' +\n",
              "            '<a target=\"_blank\" href=https://colab.research.google.com/notebooks/data_table.ipynb>data table notebook</a>'\n",
              "            + ' to learn more about interactive tables.';\n",
              "          element.innerHTML = '';\n",
              "          dataTable['output_type'] = 'display_data';\n",
              "          await google.colab.output.renderOutput(dataTable, element);\n",
              "          const docLink = document.createElement('div');\n",
              "          docLink.innerHTML = docLinkHtml;\n",
              "          element.appendChild(docLink);\n",
              "        }\n",
              "      </script>\n",
              "    </div>\n",
              "  </div>\n",
              "  "
            ]
          },
          "metadata": {},
          "execution_count": 285
        }
      ],
      "source": [
        "df = pd.read_csv('/content/covid19_tweets.csv')\n",
        "df"
      ]
    },
    {
      "cell_type": "code",
      "source": [
        "!pip install vaderSentiment"
      ],
      "metadata": {
        "id": "qRNAuLs58iGv"
      },
      "execution_count": null,
      "outputs": []
    },
    {
      "cell_type": "code",
      "source": [
        "from vaderSentiment.vaderSentiment import SentimentIntensityAnalyzer\n",
        "analyzer = SentimentIntensityAnalyzer()\n",
        "def get_sentiment_label(tweet):\n",
        "    score = analyzer.polarity_scores(tweet)['compound']\n",
        "    if score >= 0.05:\n",
        "        return 1\n",
        "    elif score <= -0.05:\n",
        "        return -1\n",
        "    else:\n",
        "        return 0\n",
        "df['label'] = df['text'].apply(get_sentiment_label)\n",
        "df['label'].head()"
      ],
      "metadata": {
        "colab": {
          "base_uri": "https://localhost:8080/"
        },
        "id": "597tz9JS7uhY",
        "outputId": "cc691999-73a3-4e2b-ed38-119c39dcf74b"
      },
      "execution_count": null,
      "outputs": [
        {
          "output_type": "execute_result",
          "data": {
            "text/plain": [
              "0    1\n",
              "1    1\n",
              "2   -1\n",
              "3    1\n",
              "4    1\n",
              "Name: label, dtype: int64"
            ]
          },
          "metadata": {},
          "execution_count": 286
        }
      ]
    },
    {
      "cell_type": "code",
      "source": [
        "print(\"Neutral:\",df.label.value_counts()[0])\n",
        "print(\"Positive:\",df.label.value_counts()[1])\n",
        "print(\"Negative:\",df.label.value_counts()[-1])\n",
        "print(\"Neutral: \", df.label.value_counts()[0]/len(df)*100,\"%\")\n",
        "print(\"Negative: \", df.label.value_counts()[-1]/len(df)*100,\"%\")\n",
        "print(\"Positive: \", df.label.value_counts()[1]/len(df)*100,\"%\")"
      ],
      "metadata": {
        "colab": {
          "base_uri": "https://localhost:8080/"
        },
        "id": "SEPl7iew7sd4",
        "outputId": "27483841-2330-4884-e1fa-458eb727f009"
      },
      "execution_count": null,
      "outputs": [
        {
          "output_type": "stream",
          "name": "stdout",
          "text": [
            "Neutral: 62199\n",
            "Positive: 69073\n",
            "Negative: 47836\n",
            "Neutral:  34.727092033856664 %\n",
            "Negative:  26.7079080778078 %\n",
            "Positive:  38.56499988833553 %\n"
          ]
        }
      ]
    },
    {
      "cell_type": "code",
      "execution_count": null,
      "metadata": {
        "colab": {
          "base_uri": "https://localhost:8080/"
        },
        "id": "ghTrnRb8EfPZ",
        "outputId": "39fdd188-d191-44d0-f1b7-98a6725e9928"
      },
      "outputs": [
        {
          "output_type": "stream",
          "name": "stdout",
          "text": [
            "Empty DataFrame\n",
            "Columns: [user_name, user_location, user_description, user_created, user_followers, user_friends, user_favourites, user_verified, date, text, hashtags, source, is_retweet, label]\n",
            "Index: []\n"
          ]
        }
      ],
      "source": [
        "\n",
        "nan_rows = df[df['text'].isnull()]\n",
        "print(nan_rows)\n",
        "df = df.dropna()\n"
      ]
    },
    {
      "cell_type": "code",
      "execution_count": null,
      "metadata": {
        "colab": {
          "base_uri": "https://localhost:8080/"
        },
        "id": "gStINvOOFBQq",
        "outputId": "ca62d75f-1f15-4ae2-badf-d94c7c2271d2"
      },
      "outputs": [
        {
          "output_type": "stream",
          "name": "stderr",
          "text": [
            "<ipython-input-289-32b02e0a9be3>:2: SettingWithCopyWarning: \n",
            "A value is trying to be set on a copy of a slice from a DataFrame.\n",
            "Try using .loc[row_indexer,col_indexer] = value instead\n",
            "\n",
            "See the caveats in the documentation: https://pandas.pydata.org/pandas-docs/stable/user_guide/indexing.html#returning-a-view-versus-a-copy\n",
            "  df['text']=df['text'].str.lower()\n"
          ]
        },
        {
          "output_type": "execute_result",
          "data": {
            "text/plain": [
              "2         @diane3443 @wdunlap @realdonaldtrump trump nev...\n",
              "3         @brookbanktv the one gift #covid19 has give me...\n",
              "4         25 july : media bulletin on novel #coronavirus...\n",
              "5         #coronavirus #covid19 deaths continue to rise....\n",
              "6         how #covid19 will change work in general (and ...\n",
              "                                ...                        \n",
              "179101    wallkill school nurse adds covid-19 monitoring...\n",
              "179102    we have reached 25mil cases of #covid19, world...\n",
              "179103    thanks @iamohmai for nominating me for the @wh...\n",
              "179104    2020! the year of insanity! lol! #covid19 http...\n",
              "179106    more than 1,200 students test positive for #co...\n",
              "Name: text, Length: 99138, dtype: object"
            ]
          },
          "metadata": {},
          "execution_count": 289
        }
      ],
      "source": [
        "import re\n",
        "df['text']=df['text'].str.lower()\n",
        "df['text']"
      ]
    },
    {
      "cell_type": "code",
      "source": [
        "!pip install emot"
      ],
      "metadata": {
        "colab": {
          "base_uri": "https://localhost:8080/"
        },
        "id": "BW5TZ0QXwlfF",
        "outputId": "1bea6b34-17ae-4f47-da26-92c65d8fb92d"
      },
      "execution_count": null,
      "outputs": [
        {
          "output_type": "stream",
          "name": "stdout",
          "text": [
            "Looking in indexes: https://pypi.org/simple, https://us-python.pkg.dev/colab-wheels/public/simple/\n",
            "Requirement already satisfied: emot in /usr/local/lib/python3.10/dist-packages (3.1)\n"
          ]
        }
      ]
    },
    {
      "cell_type": "code",
      "source": [
        "import re\n",
        "import pickle\n",
        "from emot.emo_unicode import UNICODE_EMOJI # For emojis\n",
        "from emot.emo_unicode import EMOTICONS_EMO # For EMOTICONS"
      ],
      "metadata": {
        "id": "4vsRD000wenx"
      },
      "execution_count": null,
      "outputs": []
    },
    {
      "cell_type": "code",
      "source": [
        "import emoji\n",
        "\n",
        "def replace_emoji(text):\n",
        "    # Find all emojis in the text\n",
        "    emoji_list = [c for c in text if c in UNICODE_EMOJI]\n",
        "\n",
        "    for emoji_item in emoji_list:\n",
        "        try:\n",
        "\n",
        "            emoji_text = emoji.demojize(emoji_item, delimiters=(\" \", \" \")).replace(\"_\", \" \")\n",
        "\n",
        "            text = text.replace(emoji_item, emoji_text)\n",
        "        except:\n",
        "            continue\n",
        "    return text"
      ],
      "metadata": {
        "id": "gFlYyK8H0EM3"
      },
      "execution_count": null,
      "outputs": []
    },
    {
      "cell_type": "code",
      "source": [
        "df['text'] = df['text'].apply(lambda text: replace_emoji(text))\n",
        "df['text'].head()"
      ],
      "metadata": {
        "colab": {
          "base_uri": "https://localhost:8080/"
        },
        "id": "ycVi1KjBv0rj",
        "outputId": "5a1ce3a8-2a57-4d41-c8bc-c96a04ef1056"
      },
      "execution_count": null,
      "outputs": [
        {
          "output_type": "stream",
          "name": "stderr",
          "text": [
            "<ipython-input-293-9beb009d9db9>:1: SettingWithCopyWarning: \n",
            "A value is trying to be set on a copy of a slice from a DataFrame.\n",
            "Try using .loc[row_indexer,col_indexer] = value instead\n",
            "\n",
            "See the caveats in the documentation: https://pandas.pydata.org/pandas-docs/stable/user_guide/indexing.html#returning-a-view-versus-a-copy\n",
            "  df['text'] = df['text'].apply(lambda text: replace_emoji(text))\n"
          ]
        },
        {
          "output_type": "execute_result",
          "data": {
            "text/plain": [
              "2    @diane3443 @wdunlap @realdonaldtrump trump nev...\n",
              "3    @brookbanktv the one gift #covid19 has give me...\n",
              "4    25 july : media bulletin on novel #coronavirus...\n",
              "5    #coronavirus #covid19 deaths continue to rise....\n",
              "6    how #covid19 will change work in general (and ...\n",
              "Name: text, dtype: object"
            ]
          },
          "metadata": {},
          "execution_count": 293
        }
      ]
    },
    {
      "cell_type": "code",
      "source": [
        "df.text = df.text.apply(lambda x: re.sub(r'https?:\\/\\/\\S+', '', x))\n",
        "df.text.apply(lambda x: re.sub(r\"www\\.[a-z]?\\.?(com)+|[a-z]+\\.(com)\", '', x))"
      ],
      "metadata": {
        "colab": {
          "base_uri": "https://localhost:8080/"
        },
        "id": "1_7JWJnJqSdO",
        "outputId": "4c030a40-5641-4b90-afec-a3b5ffbf5d6b"
      },
      "execution_count": null,
      "outputs": [
        {
          "output_type": "stream",
          "name": "stderr",
          "text": [
            "<ipython-input-294-daba22280c7c>:1: SettingWithCopyWarning: \n",
            "A value is trying to be set on a copy of a slice from a DataFrame.\n",
            "Try using .loc[row_indexer,col_indexer] = value instead\n",
            "\n",
            "See the caveats in the documentation: https://pandas.pydata.org/pandas-docs/stable/user_guide/indexing.html#returning-a-view-versus-a-copy\n",
            "  df.text = df.text.apply(lambda x: re.sub(r'https?:\\/\\/\\S+', '', x))\n"
          ]
        },
        {
          "output_type": "execute_result",
          "data": {
            "text/plain": [
              "2         @diane3443 @wdunlap @realdonaldtrump trump nev...\n",
              "3         @brookbanktv the one gift #covid19 has give me...\n",
              "4         25 july : media bulletin on novel #coronavirus...\n",
              "5         #coronavirus #covid19 deaths continue to rise....\n",
              "6         how #covid19 will change work in general (and ...\n",
              "                                ...                        \n",
              "179101    wallkill school nurse adds covid-19 monitoring...\n",
              "179102    we have reached 25mil cases of #covid19, world...\n",
              "179103    thanks @iamohmai for nominating me for the @wh...\n",
              "179104           2020! the year of insanity! lol! #covid19 \n",
              "179106    more than 1,200 students test positive for #co...\n",
              "Name: text, Length: 99138, dtype: object"
            ]
          },
          "metadata": {},
          "execution_count": 294
        }
      ]
    },
    {
      "cell_type": "code",
      "source": [
        "df.text = df.text.apply(lambda x: re.sub(r\"[^a-z\\s\\(\\-:\\)\\\\\\/\\];='#]\", '', x))\n",
        "df['text']"
      ],
      "metadata": {
        "colab": {
          "base_uri": "https://localhost:8080/"
        },
        "id": "vSdmN1-Yqaxx",
        "outputId": "93323664-bc86-4c63-9d16-25996684ee17"
      },
      "execution_count": null,
      "outputs": [
        {
          "output_type": "stream",
          "name": "stderr",
          "text": [
            "<ipython-input-295-b711b2be6a45>:1: SettingWithCopyWarning: \n",
            "A value is trying to be set on a copy of a slice from a DataFrame.\n",
            "Try using .loc[row_indexer,col_indexer] = value instead\n",
            "\n",
            "See the caveats in the documentation: https://pandas.pydata.org/pandas-docs/stable/user_guide/indexing.html#returning-a-view-versus-a-copy\n",
            "  df.text = df.text.apply(lambda x: re.sub(r\"[^a-z\\s\\(\\-:\\)\\\\\\/\\];='#]\", '', x))\n"
          ]
        },
        {
          "output_type": "execute_result",
          "data": {
            "text/plain": [
              "2         diane wdunlap realdonaldtrump trump never once...\n",
              "3         brookbanktv the one gift #covid has give me is...\n",
              "4          july : media bulletin on novel #coronavirusup...\n",
              "5         #coronavirus #covid deaths continue to rise it...\n",
              "6         how #covid will change work in general (and re...\n",
              "                                ...                        \n",
              "179101    wallkill school nurse adds covid- monitoring t...\n",
              "179102    we have reached mil cases of #covid worldwide ...\n",
              "179103    thanks iamohmai for nominating me for the who ...\n",
              "179104                     the year of insanity lol #covid \n",
              "179106    more than  students test positive for #covid a...\n",
              "Name: text, Length: 99138, dtype: object"
            ]
          },
          "metadata": {},
          "execution_count": 295
        }
      ]
    },
    {
      "cell_type": "code",
      "source": [
        "df.text = df.text.apply(lambda x: re.sub(r'@mention', '', x))\n",
        "df.text"
      ],
      "metadata": {
        "colab": {
          "base_uri": "https://localhost:8080/"
        },
        "id": "ziJTvcVgq6BD",
        "outputId": "7924a279-525f-4ce5-e6e1-9b692e66ffb6"
      },
      "execution_count": null,
      "outputs": [
        {
          "output_type": "stream",
          "name": "stderr",
          "text": [
            "<ipython-input-296-c545cc6f8966>:1: SettingWithCopyWarning: \n",
            "A value is trying to be set on a copy of a slice from a DataFrame.\n",
            "Try using .loc[row_indexer,col_indexer] = value instead\n",
            "\n",
            "See the caveats in the documentation: https://pandas.pydata.org/pandas-docs/stable/user_guide/indexing.html#returning-a-view-versus-a-copy\n",
            "  df.text = df.text.apply(lambda x: re.sub(r'@mention', '', x))\n"
          ]
        },
        {
          "output_type": "execute_result",
          "data": {
            "text/plain": [
              "2         diane wdunlap realdonaldtrump trump never once...\n",
              "3         brookbanktv the one gift #covid has give me is...\n",
              "4          july : media bulletin on novel #coronavirusup...\n",
              "5         #coronavirus #covid deaths continue to rise it...\n",
              "6         how #covid will change work in general (and re...\n",
              "                                ...                        \n",
              "179101    wallkill school nurse adds covid- monitoring t...\n",
              "179102    we have reached mil cases of #covid worldwide ...\n",
              "179103    thanks iamohmai for nominating me for the who ...\n",
              "179104                     the year of insanity lol #covid \n",
              "179106    more than  students test positive for #covid a...\n",
              "Name: text, Length: 99138, dtype: object"
            ]
          },
          "metadata": {},
          "execution_count": 296
        }
      ]
    },
    {
      "cell_type": "code",
      "source": [
        "df.text = df.text.apply(lambda x: re.sub(r'{link}', '', x))\n",
        "df.text = df.text.apply(lambda x: re.sub(r\"\\[video\\]\", '', x))\n",
        "df.text"
      ],
      "metadata": {
        "colab": {
          "base_uri": "https://localhost:8080/"
        },
        "id": "tqqevjsQrAju",
        "outputId": "302b1b1c-559c-43fe-c2a1-247fb832d058"
      },
      "execution_count": null,
      "outputs": [
        {
          "output_type": "stream",
          "name": "stderr",
          "text": [
            "<ipython-input-297-efaadad03cf0>:1: SettingWithCopyWarning: \n",
            "A value is trying to be set on a copy of a slice from a DataFrame.\n",
            "Try using .loc[row_indexer,col_indexer] = value instead\n",
            "\n",
            "See the caveats in the documentation: https://pandas.pydata.org/pandas-docs/stable/user_guide/indexing.html#returning-a-view-versus-a-copy\n",
            "  df.text = df.text.apply(lambda x: re.sub(r'{link}', '', x))\n",
            "<ipython-input-297-efaadad03cf0>:2: SettingWithCopyWarning: \n",
            "A value is trying to be set on a copy of a slice from a DataFrame.\n",
            "Try using .loc[row_indexer,col_indexer] = value instead\n",
            "\n",
            "See the caveats in the documentation: https://pandas.pydata.org/pandas-docs/stable/user_guide/indexing.html#returning-a-view-versus-a-copy\n",
            "  df.text = df.text.apply(lambda x: re.sub(r\"\\[video\\]\", '', x))\n"
          ]
        },
        {
          "output_type": "execute_result",
          "data": {
            "text/plain": [
              "2         diane wdunlap realdonaldtrump trump never once...\n",
              "3         brookbanktv the one gift #covid has give me is...\n",
              "4          july : media bulletin on novel #coronavirusup...\n",
              "5         #coronavirus #covid deaths continue to rise it...\n",
              "6         how #covid will change work in general (and re...\n",
              "                                ...                        \n",
              "179101    wallkill school nurse adds covid- monitoring t...\n",
              "179102    we have reached mil cases of #covid worldwide ...\n",
              "179103    thanks iamohmai for nominating me for the who ...\n",
              "179104                     the year of insanity lol #covid \n",
              "179106    more than  students test positive for #covid a...\n",
              "Name: text, Length: 99138, dtype: object"
            ]
          },
          "metadata": {},
          "execution_count": 297
        }
      ]
    },
    {
      "cell_type": "code",
      "execution_count": null,
      "metadata": {
        "colab": {
          "base_uri": "https://localhost:8080/"
        },
        "id": "BDc19KoKFes0",
        "outputId": "e54dd7cf-0854-45a9-f402-883112b4c9f1"
      },
      "outputs": [
        {
          "output_type": "stream",
          "name": "stdout",
          "text": [
            "Looking in indexes: https://pypi.org/simple, https://us-python.pkg.dev/colab-wheels/public/simple/\n",
            "Requirement already satisfied: nltk in /usr/local/lib/python3.10/dist-packages (3.8.1)\n",
            "Requirement already satisfied: regex>=2021.8.3 in /usr/local/lib/python3.10/dist-packages (from nltk) (2022.10.31)\n",
            "Requirement already satisfied: joblib in /usr/local/lib/python3.10/dist-packages (from nltk) (1.2.0)\n",
            "Requirement already satisfied: tqdm in /usr/local/lib/python3.10/dist-packages (from nltk) (4.65.0)\n",
            "Requirement already satisfied: click in /usr/local/lib/python3.10/dist-packages (from nltk) (8.1.3)\n"
          ]
        },
        {
          "output_type": "stream",
          "name": "stderr",
          "text": [
            "[nltk_data] Downloading package stopwords to /root/nltk_data...\n",
            "[nltk_data]   Package stopwords is already up-to-date!\n"
          ]
        }
      ],
      "source": [
        "import nltk\n",
        "!pip install nltk\n",
        "nltk.download('stopwords')\n",
        "from nltk.corpus import stopwords"
      ]
    },
    {
      "cell_type": "code",
      "execution_count": null,
      "metadata": {
        "colab": {
          "base_uri": "https://localhost:8080/"
        },
        "id": "5HqnbgAcGTDi",
        "outputId": "33ecc4cf-b38e-4a0c-c133-48da27d61e1f"
      },
      "outputs": [
        {
          "output_type": "stream",
          "name": "stdout",
          "text": [
            "['too', 'below', 'will', 'about', 'there', 'before', 've', 'once', 'doing', 'do', \"she's\", 'o', 'because', 'should', 'll', 'while', 'did', 'me', 'off', 'more', 'only', 'from', 'myself', 'having', 'when', 'i', 'their', 'you', 'am', 'with', 'but', 'itself', 'to', 'is', 'my', 'was', 'up', 'same', 'in', 'she', 'an', 'any', 'both', 'no', 'on', 'here', 'd', 'down', 'them', 'can', 'into', 'how', 'between', 'which', 'a', 'then', 'where', 'has', 'through', 'just', 'further', 'as', 'those', 'theirs', 'yourself', 'who', 'your', 'so', 'we', 't', 'her', 'if', 'whom', 'this', 'during', 'y', 'now', 's', 'does', 'been', 'very', 'by', \"you'd\", \"you're\", 'other', 're', 'its', 'at', 'have', 'these', 'be', 'him', 'm', 'such', 'himself', 'ma', 'that', 'yours', 'are', 'again', 'and', 'they', \"should've\", 'were', 'yourselves', 'some', 'ours', 'hers', 'it', 'for', 'own', 'each', 'most', 'what', 'herself', 'being', \"you've\", 'after', \"that'll\", 'out', 'above', 'than', 'won', 'of', 'he', 'all', \"you'll\", 'his', 'themselves', 'under', 'our', 'ourselves', 'over', 'why', 'the', \"it's\", 'had', 'or']\n"
          ]
        }
      ],
      "source": [
        "stop_words = ['too','below','will', 'about', 'there', 'before', 've', 'once', 'doing',  'do', \"she's\", 'o', 'because', 'should', 'll', 'while',  'did', 'me', 'off', 'more', 'only', 'from', 'myself', 'having', 'when', 'i', 'their',  'you', 'am', 'with', 'but', 'itself', 'to', 'is', 'my', 'was', 'up', 'same', 'in', 'she', 'an', 'any', 'both', 'no', 'on', 'here', 'd', 'down',  'them', 'can', 'into', 'how', 'between','which', 'a', 'then', 'where','has', 'through', 'just', 'further', 'as', 'those', 'theirs', 'yourself', 'who', 'your', 'so', 'we', 't', 'her', 'if', 'whom', 'this', 'during', 'y', 'now', 's', 'does', 'been', 'very', 'by', \"you'd\", \"you're\", 'other', 're', 'its', 'at', 'have', 'these', 'be', 'him',  'm', 'such', 'himself', 'ma', 'that', 'yours', 'are', 'again', 'and', 'they', \"should've\", 'were',  'yourselves', 'some', 'ours', 'hers', 'it','for', 'own', 'each', 'most', 'what', 'herself', 'being', \"you've\", 'after', \"that'll\", 'out', 'above', 'than', 'won', 'of',  'he', 'all', \"you'll\", 'his', 'themselves', 'under', 'our', 'ourselves', 'over', 'why', 'the', \"it's\", 'had', 'or']\n",
        "print(stop_words)"
      ]
    },
    {
      "cell_type": "code",
      "execution_count": null,
      "metadata": {
        "colab": {
          "base_uri": "https://localhost:8080/"
        },
        "id": "wXIpT8rVIJDT",
        "outputId": "b197da4a-b46e-4aa5-cae4-7f206ff75282"
      },
      "outputs": [
        {
          "output_type": "stream",
          "name": "stderr",
          "text": [
            "<ipython-input-300-8b1825b5871a>:3: SettingWithCopyWarning: \n",
            "A value is trying to be set on a copy of a slice from a DataFrame.\n",
            "Try using .loc[row_indexer,col_indexer] = value instead\n",
            "\n",
            "See the caveats in the documentation: https://pandas.pydata.org/pandas-docs/stable/user_guide/indexing.html#returning-a-view-versus-a-copy\n",
            "  df['text'] = df['text'].apply(lambda text: removing_stopwords(text))\n"
          ]
        },
        {
          "output_type": "execute_result",
          "data": {
            "text/plain": [
              "2    diane wdunlap realdonaldtrump trump never clai...\n",
              "3    brookbanktv one gift #covid give appreciation ...\n",
              "4    july : media bulletin novel #coronavirusupdate...\n",
              "5    #coronavirus #covid deaths continue rise almos...\n",
              "6    #covid change work general (and recruiting spe...\n",
              "Name: text, dtype: object"
            ]
          },
          "metadata": {},
          "execution_count": 300
        }
      ],
      "source": [
        "def removing_stopwords(text):\n",
        "    return \" \".join([word for word in str(text).split() if word not in stop_words])\n",
        "df['text'] = df['text'].apply(lambda text: removing_stopwords(text))\n",
        "df['text'].head()"
      ]
    },
    {
      "cell_type": "code",
      "source": [
        "from nltk.tokenize import TweetTokenizer\n",
        "tknzr = TweetTokenizer()\n",
        "df['text'] = df['text'].apply(tknzr.tokenize)\n",
        "df['text'].head()"
      ],
      "metadata": {
        "colab": {
          "base_uri": "https://localhost:8080/"
        },
        "id": "Zc2e1TA61TwK",
        "outputId": "1aae2b1a-56da-425a-e33d-1aa557b9f1eb"
      },
      "execution_count": null,
      "outputs": [
        {
          "output_type": "stream",
          "name": "stderr",
          "text": [
            "<ipython-input-301-ec6b6808e7b2>:3: SettingWithCopyWarning: \n",
            "A value is trying to be set on a copy of a slice from a DataFrame.\n",
            "Try using .loc[row_indexer,col_indexer] = value instead\n",
            "\n",
            "See the caveats in the documentation: https://pandas.pydata.org/pandas-docs/stable/user_guide/indexing.html#returning-a-view-versus-a-copy\n",
            "  df['text'] = df['text'].apply(tknzr.tokenize)\n"
          ]
        },
        {
          "output_type": "execute_result",
          "data": {
            "text/plain": [
              "2    [diane, wdunlap, realdonaldtrump, trump, never...\n",
              "3    [brookbanktv, one, gift, #covid, give, appreci...\n",
              "4    [july, :, media, bulletin, novel, #coronavirus...\n",
              "5    [#coronavirus, #covid, deaths, continue, rise,...\n",
              "6    [#covid, change, work, general, (, and, recrui...\n",
              "Name: text, dtype: object"
            ]
          },
          "metadata": {},
          "execution_count": 301
        }
      ]
    },
    {
      "cell_type": "code",
      "source": [
        "PUNCUATION_LIST = list(string.punctuation)\n",
        "def remove_punctuation(word_list):\n",
        "    \"\"\"Remove punctuation tokens from a list of tokens\"\"\"\n",
        "    return [w for w in word_list if w not in PUNCUATION_LIST]\n",
        "df['text'] = df['text'].apply(remove_punctuation)\n",
        "df['text'].head()"
      ],
      "metadata": {
        "colab": {
          "base_uri": "https://localhost:8080/"
        },
        "id": "_6HbeRnR1YTc",
        "outputId": "8960c8f2-869b-4b9f-e508-7c094d0dc294"
      },
      "execution_count": null,
      "outputs": [
        {
          "output_type": "stream",
          "name": "stderr",
          "text": [
            "<ipython-input-302-00458a00c64a>:5: SettingWithCopyWarning: \n",
            "A value is trying to be set on a copy of a slice from a DataFrame.\n",
            "Try using .loc[row_indexer,col_indexer] = value instead\n",
            "\n",
            "See the caveats in the documentation: https://pandas.pydata.org/pandas-docs/stable/user_guide/indexing.html#returning-a-view-versus-a-copy\n",
            "  df['text'] = df['text'].apply(remove_punctuation)\n"
          ]
        },
        {
          "output_type": "execute_result",
          "data": {
            "text/plain": [
              "2    [diane, wdunlap, realdonaldtrump, trump, never...\n",
              "3    [brookbanktv, one, gift, #covid, give, appreci...\n",
              "4    [july, media, bulletin, novel, #coronavirusupd...\n",
              "5    [#coronavirus, #covid, deaths, continue, rise,...\n",
              "6    [#covid, change, work, general, and, recruitin...\n",
              "Name: text, dtype: object"
            ]
          },
          "metadata": {},
          "execution_count": 302
        }
      ]
    },
    {
      "cell_type": "code",
      "source": [
        "#pip install emoji --upgrade"
      ],
      "metadata": {
        "colab": {
          "base_uri": "https://localhost:8080/"
        },
        "id": "OoXgJ8Mxujg8",
        "outputId": "313b1832-08a8-4588-a407-bf3c7d2515d9"
      },
      "execution_count": null,
      "outputs": [
        {
          "output_type": "stream",
          "name": "stdout",
          "text": [
            "Looking in indexes: https://pypi.org/simple, https://us-python.pkg.dev/colab-wheels/public/simple/\n",
            "Collecting emoji\n",
            "  Downloading emoji-2.2.0.tar.gz (240 kB)\n",
            "\u001b[2K     \u001b[90m━━━━━━━━━━━━━━━━━━━━━━━━━━━━━━━━━━━━━━\u001b[0m \u001b[32m240.9/240.9 kB\u001b[0m \u001b[31m17.3 MB/s\u001b[0m eta \u001b[36m0:00:00\u001b[0m\n",
            "\u001b[?25h  Preparing metadata (setup.py) ... \u001b[?25l\u001b[?25hdone\n",
            "Building wheels for collected packages: emoji\n",
            "  Building wheel for emoji (setup.py) ... \u001b[?25l\u001b[?25hdone\n",
            "  Created wheel for emoji: filename=emoji-2.2.0-py3-none-any.whl size=234926 sha256=570603e25404afa173b59d02028e57ea74d950269c0e374f12c138e68289450a\n",
            "  Stored in directory: /root/.cache/pip/wheels/02/3d/88/51a592b9ad17e7899126563698b4e3961983ebe85747228ba6\n",
            "Successfully built emoji\n",
            "Installing collected packages: emoji\n",
            "Successfully installed emoji-2.2.0\n"
          ]
        }
      ]
    },
    {
      "cell_type": "code",
      "source": [
        "df['text']"
      ],
      "metadata": {
        "colab": {
          "base_uri": "https://localhost:8080/"
        },
        "id": "8O5kguGdktAU",
        "outputId": "ce3dfb69-5166-4fe1-ab90-72ef6e39aebd"
      },
      "execution_count": null,
      "outputs": [
        {
          "output_type": "execute_result",
          "data": {
            "text/plain": [
              "2         [diane, wdunlap, realdonaldtrump, trump, never...\n",
              "3         [brookbanktv, one, gift, #covid, give, appreci...\n",
              "4         [july, media, bulletin, novel, #coronavirusupd...\n",
              "5         [#coronavirus, #covid, deaths, continue, rise,...\n",
              "6         [#covid, change, work, general, and, recruitin...\n",
              "                                ...                        \n",
              "179101    [wallkill, school, nurse, adds, covid, monitor...\n",
              "179102        [reached, mil, cases, #covid, worldwide, oof]\n",
              "179103    [thanks, iamohmai, nominating, #wearamask, cha...\n",
              "179104                        [year, insanity, lol, #covid]\n",
              "179106    [students, test, positive, #covid, major, univ...\n",
              "Name: text, Length: 99138, dtype: object"
            ]
          },
          "metadata": {},
          "execution_count": 303
        }
      ]
    },
    {
      "cell_type": "code",
      "source": [
        "from nltk.stem import WordNetLemmatizer\n",
        "nltk.download('wordnet')\n",
        "lemmatizer = WordNetLemmatizer()\n",
        "nltk.download('omw-1.4')"
      ],
      "metadata": {
        "colab": {
          "base_uri": "https://localhost:8080/"
        },
        "id": "YUdfEg1w1iup",
        "outputId": "d90c9896-6e10-40f5-82b5-5d8ec3206e0c"
      },
      "execution_count": null,
      "outputs": [
        {
          "output_type": "stream",
          "name": "stderr",
          "text": [
            "[nltk_data] Downloading package wordnet to /root/nltk_data...\n",
            "[nltk_data]   Package wordnet is already up-to-date!\n",
            "[nltk_data] Downloading package omw-1.4 to /root/nltk_data...\n",
            "[nltk_data]   Package omw-1.4 is already up-to-date!\n"
          ]
        },
        {
          "output_type": "execute_result",
          "data": {
            "text/plain": [
              "True"
            ]
          },
          "metadata": {},
          "execution_count": 304
        }
      ]
    },
    {
      "cell_type": "code",
      "source": [
        "def lemmatizer_on_text(data):\n",
        "    text = [lemmatizer.lemmatize(word) for word in data]\n",
        "    return data\n",
        "df['text'] = df['text'].apply(lambda x: lemmatizer_on_text(x))\n",
        "df['text'].head()"
      ],
      "metadata": {
        "colab": {
          "base_uri": "https://localhost:8080/"
        },
        "id": "HSUwbqWg1jie",
        "outputId": "8b2131b0-b540-4c14-cc21-551a6df46216"
      },
      "execution_count": null,
      "outputs": [
        {
          "output_type": "stream",
          "name": "stderr",
          "text": [
            "<ipython-input-305-ae8bb24060cb>:4: SettingWithCopyWarning: \n",
            "A value is trying to be set on a copy of a slice from a DataFrame.\n",
            "Try using .loc[row_indexer,col_indexer] = value instead\n",
            "\n",
            "See the caveats in the documentation: https://pandas.pydata.org/pandas-docs/stable/user_guide/indexing.html#returning-a-view-versus-a-copy\n",
            "  df['text'] = df['text'].apply(lambda x: lemmatizer_on_text(x))\n"
          ]
        },
        {
          "output_type": "execute_result",
          "data": {
            "text/plain": [
              "2    [diane, wdunlap, realdonaldtrump, trump, never...\n",
              "3    [brookbanktv, one, gift, #covid, give, appreci...\n",
              "4    [july, media, bulletin, novel, #coronavirusupd...\n",
              "5    [#coronavirus, #covid, deaths, continue, rise,...\n",
              "6    [#covid, change, work, general, and, recruitin...\n",
              "Name: text, dtype: object"
            ]
          },
          "metadata": {},
          "execution_count": 305
        }
      ]
    },
    {
      "cell_type": "code",
      "source": [
        "print(\"Neutral:\",df.label.value_counts()[0])\n",
        "print(\"Positive:\",df.label.value_counts()[1])\n",
        "print(\"Negative:\",df.label.value_counts()[-1])\n",
        "print(\"Neutral: \", df.label.value_counts()[0]/len(df)*100,\"%\")\n",
        "print(\"Negative: \", df.label.value_counts()[-1]/len(df)*100,\"%\")\n",
        "print(\"Positive: \", df.label.value_counts()[1]/len(df)*100,\"%\")"
      ],
      "metadata": {
        "colab": {
          "base_uri": "https://localhost:8080/"
        },
        "id": "hYnts2gJ9CUp",
        "outputId": "0d42c665-fa3a-4cff-f649-bd721b50dec8"
      },
      "execution_count": null,
      "outputs": [
        {
          "output_type": "stream",
          "name": "stdout",
          "text": [
            "Neutral: 35596\n",
            "Positive: 37548\n",
            "Negative: 25994\n",
            "Neutral:  35.90550545703968 %\n",
            "Negative:  26.220016542597186 %\n",
            "Positive:  37.87447800036313 %\n"
          ]
        }
      ]
    },
    {
      "cell_type": "code",
      "source": [
        "from sklearn.utils import resample\n",
        "#create two different dataframe of majority and minority class\n",
        "df_majority = df[(df['label']==1)]\n",
        "df_minority = df[(df['label']==-1)]\n",
        "df_minority1 = df[(df['label']==0)]\n",
        "# upsample minority class\n",
        "df_minority_upsampled = resample(df_minority,\n",
        "                                 replace=True,\n",
        "                                 n_samples= 37548,\n",
        "                                 random_state=42)\n",
        "df_minority_upsampled1 = resample(df_minority1,\n",
        "                                 replace=True,\n",
        "                                 n_samples= 37548,\n",
        "                                 random_state=42)\n",
        "\n",
        "df_upsampled = pd.concat([df_minority_upsampled,df_minority_upsampled1, df_majority])\n",
        "print(\"Neutral:\",df_upsampled.label.value_counts()[0])\n",
        "print(\"Positive:\",df_upsampled.label.value_counts()[1])\n",
        "print(\"Negative:\",df_upsampled.label.value_counts()[-1])"
      ],
      "metadata": {
        "colab": {
          "base_uri": "https://localhost:8080/"
        },
        "id": "1_3Fu-pE82UF",
        "outputId": "d92ec3d5-15c6-4807-8dc2-6f7beaa695cb"
      },
      "execution_count": null,
      "outputs": [
        {
          "output_type": "stream",
          "name": "stdout",
          "text": [
            "Neutral: 37548\n",
            "Positive: 37548\n",
            "Negative: 37548\n"
          ]
        }
      ]
    },
    {
      "cell_type": "code",
      "source": [
        "x=df_upsampled.text\n",
        "y=df_upsampled.label"
      ],
      "metadata": {
        "id": "5kOdBxLC9b3R"
      },
      "execution_count": null,
      "outputs": []
    },
    {
      "cell_type": "code",
      "source": [
        "from sklearn.model_selection import train_test_split"
      ],
      "metadata": {
        "id": "RdcG2tbf9oWA"
      },
      "execution_count": null,
      "outputs": []
    },
    {
      "cell_type": "code",
      "source": [
        "x_train, x_test, y_train, y_test = train_test_split(x, y,\n",
        "test_size=0.3, random_state=10,shuffle = True)"
      ],
      "metadata": {
        "id": "63lh3vuL9l7T"
      },
      "execution_count": null,
      "outputs": []
    },
    {
      "cell_type": "code",
      "source": [
        "from sklearn.feature_extraction.text import TfidfVectorizer\n",
        "\n",
        "tfidf_vectorizer = TfidfVectorizer()\n",
        "x_train_str = [' '.join(doc) for doc in x_train]\n",
        "tfidf_x_train = tfidf_vectorizer.fit_transform(x_train_str)\n",
        "x_test_str = [' '.join(doc) for doc in x_test]\n",
        "tfidf_x_test = tfidf_vectorizer.transform(x_test_str)\n",
        "tfidf_values = tfidf_x_train.toarray()"
      ],
      "metadata": {
        "id": "BYEJor-j92cd"
      },
      "execution_count": null,
      "outputs": []
    },
    {
      "cell_type": "code",
      "source": [
        "from sklearn.svm import LinearSVC\n",
        "from sklearn.naive_bayes import BernoulliNB\n",
        "from sklearn.linear_model import LogisticRegression\n",
        "from sklearn.metrics import accuracy_score"
      ],
      "metadata": {
        "id": "lIgJ0-d39-ND"
      },
      "execution_count": null,
      "outputs": []
    },
    {
      "cell_type": "code",
      "source": [
        "BNBmodel = BernoulliNB()\n",
        "BNBmodel.fit(tfidf_x_train, y_train)\n",
        "y_pred = BNBmodel.predict(tfidf_x_test)\n",
        "print(y_pred)"
      ],
      "metadata": {
        "colab": {
          "base_uri": "https://localhost:8080/"
        },
        "id": "E5Ygk4I1-Dti",
        "outputId": "1eba3928-a6c8-425b-d1c7-b2d742c95b89"
      },
      "execution_count": null,
      "outputs": [
        {
          "output_type": "stream",
          "name": "stdout",
          "text": [
            "[-1  0 -1 ... -1  1 -1]\n"
          ]
        }
      ]
    },
    {
      "cell_type": "code",
      "source": [
        "accuracy = accuracy_score(y_test, y_pred)\n",
        "print(accuracy)"
      ],
      "metadata": {
        "colab": {
          "base_uri": "https://localhost:8080/"
        },
        "id": "AbCJdizS-Kkn",
        "outputId": "691d0a4f-0d82-4100-89c0-1e35776323d6"
      },
      "execution_count": null,
      "outputs": [
        {
          "output_type": "stream",
          "name": "stdout",
          "text": [
            "0.799698171273007\n"
          ]
        }
      ]
    },
    {
      "cell_type": "code",
      "source": [
        "from sklearn.naive_bayes import MultinomialNB\n",
        "\n",
        "mnb = MultinomialNB()\n",
        "mnb.fit(tfidf_x_train, y_train)\n",
        "y_pred = BNBmodel.predict(tfidf_x_test)\n",
        "accuracy = accuracy_score(y_test, y_pred)\n",
        "print(accuracy)"
      ],
      "metadata": {
        "colab": {
          "base_uri": "https://localhost:8080/"
        },
        "id": "foVXhllJ-Oo5",
        "outputId": "913bbdc0-7cbc-4f5a-ad6a-f94071779556"
      },
      "execution_count": null,
      "outputs": [
        {
          "output_type": "stream",
          "name": "stdout",
          "text": [
            "0.674054565899272\n"
          ]
        }
      ]
    },
    {
      "cell_type": "code",
      "source": [
        "SVCmodel = LinearSVC()\n",
        "SVCmodel.fit(tfidf_x_train, y_train)\n",
        "y_pred1 = SVCmodel.predict(tfidf_x_test)\n",
        "accuracy = accuracy_score(y_test, y_pred1)\n",
        "print(accuracy)"
      ],
      "metadata": {
        "colab": {
          "base_uri": "https://localhost:8080/"
        },
        "id": "W8m3dchv-Ta-",
        "outputId": "d54bef60-2768-4307-d815-d9be85e0c551"
      },
      "execution_count": null,
      "outputs": [
        {
          "output_type": "stream",
          "name": "stdout",
          "text": [
            "0.7981298455347103\n"
          ]
        }
      ]
    }
  ],
  "metadata": {
    "colab": {
      "provenance": []
    },
    "kernelspec": {
      "display_name": "Python 3",
      "name": "python3"
    },
    "language_info": {
      "name": "python"
    }
  },
  "nbformat": 4,
  "nbformat_minor": 0
}